{
 "cells": [
  {
   "cell_type": "markdown",
   "metadata": {},
   "source": [
    "## THE BATTLE OF NEIGHBORHOODS - Applied Data Science Capstone Project"
   ]
  },
  {
   "cell_type": "markdown",
   "metadata": {},
   "source": [
    "### Introduction"
   ]
  },
  {
   "cell_type": "markdown",
   "metadata": {},
   "source": [
    "New York City's is a large and ethnically diverse cosmopolit and food is one of the major items that create the diversity. There are countless resturants in the New york City, in fact, NYC is a place where you can find literally every single kind of food in the world. This also creates an incredible competitive food market with all restaurants are doing their best to capture new customers.\n",
    "\n",
    "With these in mind, our goal in this project is to find the best location for the new Turkish restaurant we are planning to open."
   ]
  },
  {
   "cell_type": "markdown",
   "metadata": {},
   "source": [
    "### Data"
   ]
  },
  {
   "cell_type": "markdown",
   "metadata": {},
   "source": [
    "For this project we need the city's data with Boroughs, Neighborhoods along with their latitude and longitude, Turkish resturants in each neighborhood, and GeoSpace data of the city."
   ]
  },
  {
   "cell_type": "markdown",
   "metadata": {},
   "source": [
    "### Questions to be answered in this project"
   ]
  },
  {
   "cell_type": "markdown",
   "metadata": {},
   "source": [
    "1) Which are the best locations in NYC for Turkish food?"
   ]
  },
  {
   "cell_type": "markdown",
   "metadata": {},
   "source": [
    "2) Which areas have the best potential to open a new one?"
   ]
  },
  {
   "cell_type": "markdown",
   "metadata": {},
   "source": [
    "### Methodology"
   ]
  },
  {
   "cell_type": "markdown",
   "metadata": {},
   "source": [
    "1. Collecting the New York city data from \"https://cocl.us/new_york_dataset\".\n",
    "2. Finding all venues for each neighborhood using FourSquare API.\n",
    "3. Filter out all Turkish Restuarant venues.\n",
    "4. Using FourSquare API, find the Ratings, Tips, and Like count for all the Turkish Resturants.\n",
    "5. Sort the data keeping Ratings as the constraint.\n",
    "6. Visualize the Ranking of neighborhoods using python's Folium library."
   ]
  },
  {
   "cell_type": "markdown",
   "metadata": {},
   "source": [
    "### Starting with importing the necessary libraries"
   ]
  },
  {
   "cell_type": "code",
   "execution_count": 6,
   "metadata": {},
   "outputs": [
    {
     "name": "stdout",
     "output_type": "stream",
     "text": [
      "Collecting beautifulsoup4\n",
      "\u001b[?25l  Downloading https://files.pythonhosted.org/packages/e8/b5/7bb03a696f2c9b7af792a8f51b82974e51c268f15e925fc834876a4efa0b/beautifulsoup4-4.9.0-py3-none-any.whl (109kB)\n",
      "\u001b[K     |████████████████████████████████| 112kB 8.2MB/s eta 0:00:01\n",
      "\u001b[?25hCollecting soupsieve>1.2 (from beautifulsoup4)\n",
      "  Downloading https://files.pythonhosted.org/packages/6f/8f/457f4a5390eeae1cc3aeab89deb7724c965be841ffca6cfca9197482e470/soupsieve-2.0.1-py3-none-any.whl\n",
      "Installing collected packages: soupsieve, beautifulsoup4\n",
      "Successfully installed beautifulsoup4-4.9.0 soupsieve-2.0.1\n",
      "Note: you may need to restart the kernel to use updated packages.\n"
     ]
    }
   ],
   "source": [
    "pip install beautifulsoup4"
   ]
  },
  {
   "cell_type": "code",
   "execution_count": 4,
   "metadata": {},
   "outputs": [
    {
     "name": "stdout",
     "output_type": "stream",
     "text": [
      "Requirement already satisfied: geocoder in /home/jupyterlab/conda/envs/python/lib/python3.6/site-packages (1.38.1)\n",
      "Requirement already satisfied: click in /home/jupyterlab/conda/envs/python/lib/python3.6/site-packages (from geocoder) (7.1.2)\n",
      "Requirement already satisfied: requests in /home/jupyterlab/conda/envs/python/lib/python3.6/site-packages (from geocoder) (2.23.0)\n",
      "Requirement already satisfied: ratelim in /home/jupyterlab/conda/envs/python/lib/python3.6/site-packages (from geocoder) (0.1.6)\n",
      "Requirement already satisfied: six in /home/jupyterlab/conda/envs/python/lib/python3.6/site-packages (from geocoder) (1.14.0)\n",
      "Requirement already satisfied: future in /home/jupyterlab/conda/envs/python/lib/python3.6/site-packages (from geocoder) (0.18.2)\n",
      "Requirement already satisfied: certifi>=2017.4.17 in /home/jupyterlab/conda/envs/python/lib/python3.6/site-packages (from requests->geocoder) (2020.4.5.1)\n",
      "Requirement already satisfied: chardet<4,>=3.0.2 in /home/jupyterlab/conda/envs/python/lib/python3.6/site-packages (from requests->geocoder) (3.0.4)\n",
      "Requirement already satisfied: urllib3!=1.25.0,!=1.25.1,<1.26,>=1.21.1 in /home/jupyterlab/conda/envs/python/lib/python3.6/site-packages (from requests->geocoder) (1.25.9)\n",
      "Requirement already satisfied: idna<3,>=2.5 in /home/jupyterlab/conda/envs/python/lib/python3.6/site-packages (from requests->geocoder) (2.9)\n",
      "Requirement already satisfied: decorator in /home/jupyterlab/conda/envs/python/lib/python3.6/site-packages (from ratelim->geocoder) (4.4.2)\n",
      "Requirement already satisfied: folium in /home/jupyterlab/conda/envs/python/lib/python3.6/site-packages (0.5.0)\n",
      "Requirement already satisfied: requests in /home/jupyterlab/conda/envs/python/lib/python3.6/site-packages (from folium) (2.23.0)\n",
      "Requirement already satisfied: six in /home/jupyterlab/conda/envs/python/lib/python3.6/site-packages (from folium) (1.14.0)\n",
      "Requirement already satisfied: branca in /home/jupyterlab/conda/envs/python/lib/python3.6/site-packages (from folium) (0.4.1)\n",
      "Requirement already satisfied: jinja2 in /home/jupyterlab/conda/envs/python/lib/python3.6/site-packages (from folium) (2.11.2)\n",
      "Requirement already satisfied: chardet<4,>=3.0.2 in /home/jupyterlab/conda/envs/python/lib/python3.6/site-packages (from requests->folium) (3.0.4)\n",
      "Requirement already satisfied: urllib3!=1.25.0,!=1.25.1,<1.26,>=1.21.1 in /home/jupyterlab/conda/envs/python/lib/python3.6/site-packages (from requests->folium) (1.25.9)\n",
      "Requirement already satisfied: certifi>=2017.4.17 in /home/jupyterlab/conda/envs/python/lib/python3.6/site-packages (from requests->folium) (2020.4.5.1)\n",
      "Requirement already satisfied: idna<3,>=2.5 in /home/jupyterlab/conda/envs/python/lib/python3.6/site-packages (from requests->folium) (2.9)\n",
      "Requirement already satisfied: MarkupSafe>=0.23 in /home/jupyterlab/conda/envs/python/lib/python3.6/site-packages (from jinja2->folium) (1.1.1)\n",
      "Collecting package metadata (current_repodata.json): done\n",
      "Solving environment: done\n",
      "\n",
      "## Package Plan ##\n",
      "\n",
      "  environment location: /home/jupyterlab/conda/envs/python\n",
      "\n",
      "  added / updated specs:\n",
      "    - geopy\n",
      "\n",
      "\n",
      "The following packages will be downloaded:\n",
      "\n",
      "    package                    |            build\n",
      "    ---------------------------|-----------------\n",
      "    geographiclib-1.50         |             py_0          34 KB  conda-forge\n",
      "    geopy-1.22.0               |     pyh9f0ad1d_0          63 KB  conda-forge\n",
      "    ------------------------------------------------------------\n",
      "                                           Total:          97 KB\n",
      "\n",
      "The following NEW packages will be INSTALLED:\n",
      "\n",
      "  geographiclib      conda-forge/noarch::geographiclib-1.50-py_0\n",
      "  geopy              conda-forge/noarch::geopy-1.22.0-pyh9f0ad1d_0\n",
      "\n",
      "\n",
      "\n",
      "Downloading and Extracting Packages\n",
      "geopy-1.22.0         | 63 KB     | ##################################### | 100% \n",
      "geographiclib-1.50   | 34 KB     | ##################################### | 100% \n",
      "Preparing transaction: done\n",
      "Verifying transaction: done\n",
      "Executing transaction: done\n",
      "Libraries imported.\n"
     ]
    }
   ],
   "source": [
    "import pandas as pd\n",
    "import numpy as np\n",
    "pd.set_option('display.max_columns', None)\n",
    "pd.set_option('display.max_rows', None)\n",
    "import requests\n",
    "from bs4 import BeautifulSoup\n",
    "!pip install geocoder\n",
    "import geocoder\n",
    "import os\n",
    "!pip install folium\n",
    "import folium # map rendering library\n",
    "!conda install -c conda-forge geopy --yes\n",
    "from geopy.geocoders import Nominatim # convert an address into latitude and longitude values\n",
    "# Matplotlib and associated plotting modules\n",
    "import matplotlib.pyplot as plt\n",
    "import matplotlib.cm as cm\n",
    "import matplotlib.colors as colors\n",
    "%matplotlib inline\n",
    "\n",
    "\n",
    "print('Libraries imported.')"
   ]
  },
  {
   "cell_type": "markdown",
   "metadata": {},
   "source": [
    "### Defining the function to get the geocodes"
   ]
  },
  {
   "cell_type": "code",
   "execution_count": 6,
   "metadata": {},
   "outputs": [],
   "source": [
    "def geo_location(address):\n",
    "    # get geo location of address\n",
    "    geolocator = Nominatim(user_agent=\"ny_explorer\")\n",
    "    location = geolocator.geocode(address)\n",
    "    latitude = location.latitude\n",
    "    longitude = location.longitude\n",
    "    return latitude,longitude"
   ]
  },
  {
   "cell_type": "markdown",
   "metadata": {},
   "source": [
    "### Defining a function to interact with FourSquare API and get top 100 venues within a radius of 1000 metres for a given latitude and longitude."
   ]
  },
  {
   "cell_type": "code",
   "execution_count": 8,
   "metadata": {},
   "outputs": [],
   "source": [
    "def get_venues(lat,lng):\n",
    "    \n",
    "    #set variables\n",
    "    radius=1000\n",
    "    LIMIT=100\n",
    "    CLIENT_ID = 'JK0Q54RHCTMDKLIHUXNNZ5CFGIDN4C2UTCVT1XRWNKTSSGCU' # your Foursquare ID\n",
    "    CLIENT_SECRET = 'PJQ3VK5JHGQKFRU41BACZM4EOUG0V3RD1NANBOMMUEYRGXST' # your Foursquare Secret\n",
    "    VERSION = '20200517' # Foursquare API version\n",
    "    \n",
    "    #url to fetch data from foursquare api\n",
    "    url = 'https://api.foursquare.com/v2/venues/explore?&client_id={}&client_secret={}&v={}&ll={},{}&radius={}&limit={}'.format(\n",
    "            CLIENT_ID, \n",
    "            CLIENT_SECRET, \n",
    "            VERSION, \n",
    "            lat, \n",
    "            lng, \n",
    "            radius, \n",
    "            LIMIT)\n",
    "    \n",
    "    # get all the data\n",
    "    results = requests.get(url).json()\n",
    "    venue_data=results[\"response\"]['groups'][0]['items']\n",
    "    venue_details=[]\n",
    "    for row in venue_data:\n",
    "        try:\n",
    "            venue_id=row['venue']['id']\n",
    "            venue_name=row['venue']['name']\n",
    "            venue_category=row['venue']['categories'][0]['name']\n",
    "            venue_details.append([venue_id,venue_name,venue_category])\n",
    "        except KeyError:\n",
    "            pass\n",
    "        \n",
    "    column_names=['ID','Name','Category']\n",
    "    df = pd.DataFrame(venue_details,columns=column_names)\n",
    "    return df"
   ]
  },
  {
   "cell_type": "markdown",
   "metadata": {},
   "source": [
    "### Defining a function to get venue details"
   ]
  },
  {
   "cell_type": "code",
   "execution_count": 9,
   "metadata": {},
   "outputs": [],
   "source": [
    "def get_venue_details(venue_id):\n",
    "        \n",
    "    CLIENT_ID = 'JK0Q54RHCTMDKLIHUXNNZ5CFGIDN4C2UTCVT1XRWNKTSSGCU' # your Foursquare ID\n",
    "    CLIENT_SECRET = 'PJQ3VK5JHGQKFRU41BACZM4EOUG0V3RD1NANBOMMUEYRGXST' # your Foursquare Secret\n",
    "    VERSION = '20200517' # Foursquare API version\n",
    "    \n",
    "    #url to fetch data from foursquare api\n",
    "    url = 'https://api.foursquare.com/v2/venues/{}?&client_id={}&client_secret={}&v={}'.format(\n",
    "            venue_id,\n",
    "            CLIENT_ID, \n",
    "            CLIENT_SECRET, \n",
    "            VERSION)\n",
    "    \n",
    "    # get all the data\n",
    "    results = requests.get(url).json()\n",
    "    venue_data=results['response']['venue']\n",
    "    venue_details=[]\n",
    "    try:\n",
    "        venue_id=venue_data['id']\n",
    "        venue_name=venue_data['name']\n",
    "        venue_likes=venue_data['likes']['count']\n",
    "        venue_rating=venue_data['rating']\n",
    "        venue_tips=venue_data['tips']['count']\n",
    "        venue_details.append([venue_id,venue_name,venue_likes,venue_rating,venue_tips])\n",
    "    except KeyError:\n",
    "        pass\n",
    "        \n",
    "    column_names=['ID','Name','Likes','Rating','Tips']\n",
    "    df = pd.DataFrame(venue_details,columns=column_names)\n",
    "    return df"
   ]
  },
  {
   "cell_type": "markdown",
   "metadata": {},
   "source": [
    "### Getting NYC Data"
   ]
  },
  {
   "cell_type": "code",
   "execution_count": 10,
   "metadata": {},
   "outputs": [],
   "source": [
    "def get_new_york_data():\n",
    "    url='https://cocl.us/new_york_dataset'\n",
    "    resp=requests.get(url).json()\n",
    "    # all data is present in features label\n",
    "    features=resp['features']\n",
    "    \n",
    "    # define the dataframe columns\n",
    "    column_names = ['Borough', 'Neighborhood', 'Latitude', 'Longitude'] \n",
    "    # instantiate the dataframe\n",
    "    new_york_data = pd.DataFrame(columns=column_names)\n",
    "    \n",
    "    for data in features:\n",
    "        borough = data['properties']['borough'] \n",
    "        neighborhood_name = data['properties']['name']\n",
    "        \n",
    "        neighborhood_latlon = data['geometry']['coordinates']\n",
    "        neighborhood_lat = neighborhood_latlon[1]\n",
    "        neighborhood_lon = neighborhood_latlon[0]\n",
    "    \n",
    "        new_york_data = new_york_data.append({'Borough': borough,\n",
    "                                          'Neighborhood': neighborhood_name,\n",
    "                                          'Latitude': neighborhood_lat,\n",
    "                                          'Longitude': neighborhood_lon}, ignore_index=True)\n",
    "    \n",
    "    return new_york_data"
   ]
  },
  {
   "cell_type": "code",
   "execution_count": 11,
   "metadata": {},
   "outputs": [],
   "source": [
    "new_york_data=get_new_york_data()"
   ]
  },
  {
   "cell_type": "code",
   "execution_count": 12,
   "metadata": {},
   "outputs": [
    {
     "data": {
      "text/html": [
       "<div>\n",
       "<style scoped>\n",
       "    .dataframe tbody tr th:only-of-type {\n",
       "        vertical-align: middle;\n",
       "    }\n",
       "\n",
       "    .dataframe tbody tr th {\n",
       "        vertical-align: top;\n",
       "    }\n",
       "\n",
       "    .dataframe thead th {\n",
       "        text-align: right;\n",
       "    }\n",
       "</style>\n",
       "<table border=\"1\" class=\"dataframe\">\n",
       "  <thead>\n",
       "    <tr style=\"text-align: right;\">\n",
       "      <th></th>\n",
       "      <th>Borough</th>\n",
       "      <th>Neighborhood</th>\n",
       "      <th>Latitude</th>\n",
       "      <th>Longitude</th>\n",
       "    </tr>\n",
       "  </thead>\n",
       "  <tbody>\n",
       "    <tr>\n",
       "      <th>0</th>\n",
       "      <td>Bronx</td>\n",
       "      <td>Wakefield</td>\n",
       "      <td>40.894705</td>\n",
       "      <td>-73.847201</td>\n",
       "    </tr>\n",
       "    <tr>\n",
       "      <th>1</th>\n",
       "      <td>Bronx</td>\n",
       "      <td>Co-op City</td>\n",
       "      <td>40.874294</td>\n",
       "      <td>-73.829939</td>\n",
       "    </tr>\n",
       "    <tr>\n",
       "      <th>2</th>\n",
       "      <td>Bronx</td>\n",
       "      <td>Eastchester</td>\n",
       "      <td>40.887556</td>\n",
       "      <td>-73.827806</td>\n",
       "    </tr>\n",
       "    <tr>\n",
       "      <th>3</th>\n",
       "      <td>Bronx</td>\n",
       "      <td>Fieldston</td>\n",
       "      <td>40.895437</td>\n",
       "      <td>-73.905643</td>\n",
       "    </tr>\n",
       "    <tr>\n",
       "      <th>4</th>\n",
       "      <td>Bronx</td>\n",
       "      <td>Riverdale</td>\n",
       "      <td>40.890834</td>\n",
       "      <td>-73.912585</td>\n",
       "    </tr>\n",
       "  </tbody>\n",
       "</table>\n",
       "</div>"
      ],
      "text/plain": [
       "  Borough Neighborhood   Latitude  Longitude\n",
       "0   Bronx    Wakefield  40.894705 -73.847201\n",
       "1   Bronx   Co-op City  40.874294 -73.829939\n",
       "2   Bronx  Eastchester  40.887556 -73.827806\n",
       "3   Bronx    Fieldston  40.895437 -73.905643\n",
       "4   Bronx    Riverdale  40.890834 -73.912585"
      ]
     },
     "execution_count": 12,
     "metadata": {},
     "output_type": "execute_result"
    }
   ],
   "source": [
    "new_york_data.head()"
   ]
  },
  {
   "cell_type": "code",
   "execution_count": 13,
   "metadata": {},
   "outputs": [
    {
     "data": {
      "text/plain": [
       "(306, 4)"
      ]
     },
     "execution_count": 13,
     "metadata": {},
     "output_type": "execute_result"
    }
   ],
   "source": [
    "new_york_data.shape"
   ]
  },
  {
   "cell_type": "markdown",
   "metadata": {},
   "source": [
    "### Collecting Turkish Restaurants in NYC"
   ]
  },
  {
   "cell_type": "code",
   "execution_count": 14,
   "metadata": {},
   "outputs": [
    {
     "name": "stdout",
     "output_type": "stream",
     "text": [
      "( 1 / 306 ) Turkish Resturants in Wakefield, Bronx:0\n",
      "( 2 / 306 ) Turkish Resturants in Co-op City, Bronx:0\n",
      "( 3 / 306 ) Turkish Resturants in Eastchester, Bronx:0\n",
      "( 4 / 306 ) Turkish Resturants in Fieldston, Bronx:0\n",
      "( 5 / 306 ) Turkish Resturants in Riverdale, Bronx:0\n",
      "( 6 / 306 ) Turkish Resturants in Kingsbridge, Bronx:0\n",
      "( 7 / 306 ) Turkish Resturants in Marble Hill, Manhattan:0\n",
      "( 8 / 306 ) Turkish Resturants in Woodlawn, Bronx:0\n",
      "( 9 / 306 ) Turkish Resturants in Norwood, Bronx:0\n",
      "( 10 / 306 ) Turkish Resturants in Williamsbridge, Bronx:0\n",
      "( 11 / 306 ) Turkish Resturants in Baychester, Bronx:0\n",
      "( 12 / 306 ) Turkish Resturants in Pelham Parkway, Bronx:0\n",
      "( 13 / 306 ) Turkish Resturants in City Island, Bronx:0\n",
      "( 14 / 306 ) Turkish Resturants in Bedford Park, Bronx:0\n",
      "( 15 / 306 ) Turkish Resturants in University Heights, Bronx:0\n",
      "( 16 / 306 ) Turkish Resturants in Morris Heights, Bronx:0\n",
      "( 17 / 306 ) Turkish Resturants in Fordham, Bronx:0\n",
      "( 18 / 306 ) Turkish Resturants in East Tremont, Bronx:0\n",
      "( 19 / 306 ) Turkish Resturants in West Farms, Bronx:0\n",
      "( 20 / 306 ) Turkish Resturants in High  Bridge, Bronx:0\n",
      "( 21 / 306 ) Turkish Resturants in Melrose, Bronx:0\n",
      "( 22 / 306 ) Turkish Resturants in Mott Haven, Bronx:0\n",
      "( 23 / 306 ) Turkish Resturants in Port Morris, Bronx:0\n",
      "( 24 / 306 ) Turkish Resturants in Longwood, Bronx:0\n",
      "( 25 / 306 ) Turkish Resturants in Hunts Point, Bronx:0\n",
      "( 26 / 306 ) Turkish Resturants in Morrisania, Bronx:0\n",
      "( 27 / 306 ) Turkish Resturants in Soundview, Bronx:0\n",
      "( 28 / 306 ) Turkish Resturants in Clason Point, Bronx:0\n",
      "( 29 / 306 ) Turkish Resturants in Throgs Neck, Bronx:0\n",
      "( 30 / 306 ) Turkish Resturants in Country Club, Bronx:0\n",
      "( 31 / 306 ) Turkish Resturants in Parkchester, Bronx:0\n",
      "( 32 / 306 ) Turkish Resturants in Westchester Square, Bronx:0\n",
      "( 33 / 306 ) Turkish Resturants in Van Nest, Bronx:0\n",
      "( 34 / 306 ) Turkish Resturants in Morris Park, Bronx:0\n",
      "( 35 / 306 ) Turkish Resturants in Belmont, Bronx:0\n",
      "( 36 / 306 ) Turkish Resturants in Spuyten Duyvil, Bronx:0\n",
      "( 37 / 306 ) Turkish Resturants in North Riverdale, Bronx:0\n",
      "( 38 / 306 ) Turkish Resturants in Pelham Bay, Bronx:0\n",
      "( 39 / 306 ) Turkish Resturants in Schuylerville, Bronx:0\n",
      "( 40 / 306 ) Turkish Resturants in Edgewater Park, Bronx:0\n",
      "( 41 / 306 ) Turkish Resturants in Castle Hill, Bronx:0\n",
      "( 42 / 306 ) Turkish Resturants in Olinville, Bronx:0\n",
      "( 43 / 306 ) Turkish Resturants in Pelham Gardens, Bronx:0\n",
      "( 44 / 306 ) Turkish Resturants in Concourse, Bronx:0\n",
      "( 45 / 306 ) Turkish Resturants in Unionport, Bronx:0\n",
      "( 46 / 306 ) Turkish Resturants in Edenwald, Bronx:0\n",
      "( 47 / 306 ) Turkish Resturants in Bay Ridge, Brooklyn:2\n",
      "( 48 / 306 ) Turkish Resturants in Bensonhurst, Brooklyn:0\n",
      "( 49 / 306 ) Turkish Resturants in Sunset Park, Brooklyn:0\n",
      "( 50 / 306 ) Turkish Resturants in Greenpoint, Brooklyn:0\n",
      "( 51 / 306 ) Turkish Resturants in Gravesend, Brooklyn:1\n",
      "( 52 / 306 ) Turkish Resturants in Brighton Beach, Brooklyn:0\n",
      "( 53 / 306 ) Turkish Resturants in Sheepshead Bay, Brooklyn:4\n",
      "( 54 / 306 ) Turkish Resturants in Manhattan Terrace, Brooklyn:1\n",
      "( 55 / 306 ) Turkish Resturants in Flatbush, Brooklyn:0\n",
      "( 56 / 306 ) Turkish Resturants in Crown Heights, Brooklyn:0\n",
      "( 57 / 306 ) Turkish Resturants in East Flatbush, Brooklyn:0\n",
      "( 58 / 306 ) Turkish Resturants in Kensington, Brooklyn:0\n",
      "( 59 / 306 ) Turkish Resturants in Windsor Terrace, Brooklyn:0\n",
      "( 60 / 306 ) Turkish Resturants in Prospect Heights, Brooklyn:0\n",
      "( 61 / 306 ) Turkish Resturants in Brownsville, Brooklyn:0\n",
      "( 62 / 306 ) Turkish Resturants in Williamsburg, Brooklyn:0\n",
      "( 63 / 306 ) Turkish Resturants in Bushwick, Brooklyn:0\n",
      "( 64 / 306 ) Turkish Resturants in Bedford Stuyvesant, Brooklyn:0\n",
      "( 65 / 306 ) Turkish Resturants in Brooklyn Heights, Brooklyn:0\n",
      "( 66 / 306 ) Turkish Resturants in Cobble Hill, Brooklyn:0\n",
      "( 67 / 306 ) Turkish Resturants in Carroll Gardens, Brooklyn:0\n",
      "( 68 / 306 ) Turkish Resturants in Red Hook, Brooklyn:0\n",
      "( 69 / 306 ) Turkish Resturants in Gowanus, Brooklyn:0\n",
      "( 70 / 306 ) Turkish Resturants in Fort Greene, Brooklyn:0\n",
      "( 71 / 306 ) Turkish Resturants in Park Slope, Brooklyn:0\n",
      "( 72 / 306 ) Turkish Resturants in Cypress Hills, Brooklyn:0\n",
      "( 73 / 306 ) Turkish Resturants in East New York, Brooklyn:0\n",
      "( 74 / 306 ) Turkish Resturants in Starrett City, Brooklyn:0\n",
      "( 75 / 306 ) Turkish Resturants in Canarsie, Brooklyn:0\n",
      "( 76 / 306 ) Turkish Resturants in Flatlands, Brooklyn:0\n",
      "( 77 / 306 ) Turkish Resturants in Mill Island, Brooklyn:0\n",
      "( 78 / 306 ) Turkish Resturants in Manhattan Beach, Brooklyn:4\n",
      "( 79 / 306 ) Turkish Resturants in Coney Island, Brooklyn:0\n",
      "( 80 / 306 ) Turkish Resturants in Bath Beach, Brooklyn:1\n",
      "( 81 / 306 ) Turkish Resturants in Borough Park, Brooklyn:0\n",
      "( 82 / 306 ) Turkish Resturants in Dyker Heights, Brooklyn:1\n",
      "( 83 / 306 ) Turkish Resturants in Gerritsen Beach, Brooklyn:0\n",
      "( 84 / 306 ) Turkish Resturants in Marine Park, Brooklyn:0\n",
      "( 85 / 306 ) Turkish Resturants in Clinton Hill, Brooklyn:0\n",
      "( 86 / 306 ) Turkish Resturants in Sea Gate, Brooklyn:0\n",
      "( 87 / 306 ) Turkish Resturants in Downtown, Brooklyn:0\n",
      "( 88 / 306 ) Turkish Resturants in Boerum Hill, Brooklyn:0\n",
      "( 89 / 306 ) Turkish Resturants in Prospect Lefferts Gardens, Brooklyn:0\n",
      "( 90 / 306 ) Turkish Resturants in Ocean Hill, Brooklyn:0\n",
      "( 91 / 306 ) Turkish Resturants in City Line, Brooklyn:0\n",
      "( 92 / 306 ) Turkish Resturants in Bergen Beach, Brooklyn:0\n",
      "( 93 / 306 ) Turkish Resturants in Midwood, Brooklyn:0\n",
      "( 94 / 306 ) Turkish Resturants in Prospect Park South, Brooklyn:0\n",
      "( 95 / 306 ) Turkish Resturants in Georgetown, Brooklyn:0\n",
      "( 96 / 306 ) Turkish Resturants in East Williamsburg, Brooklyn:0\n",
      "( 97 / 306 ) Turkish Resturants in North Side, Brooklyn:0\n",
      "( 98 / 306 ) Turkish Resturants in South Side, Brooklyn:0\n",
      "( 99 / 306 ) Turkish Resturants in Ocean Parkway, Brooklyn:1\n",
      "( 100 / 306 ) Turkish Resturants in Fort Hamilton, Brooklyn:0\n",
      "( 101 / 306 ) Turkish Resturants in Chinatown, Manhattan:0\n",
      "( 102 / 306 ) Turkish Resturants in Washington Heights, Manhattan:0\n",
      "( 103 / 306 ) Turkish Resturants in Inwood, Manhattan:0\n",
      "( 104 / 306 ) Turkish Resturants in Hamilton Heights, Manhattan:0\n",
      "( 105 / 306 ) Turkish Resturants in Manhattanville, Manhattan:0\n",
      "( 106 / 306 ) Turkish Resturants in Central Harlem, Manhattan:0\n",
      "( 107 / 306 ) Turkish Resturants in East Harlem, Manhattan:0\n",
      "( 108 / 306 ) Turkish Resturants in Upper East Side, Manhattan:0\n",
      "( 109 / 306 ) Turkish Resturants in Yorkville, Manhattan:0\n",
      "( 110 / 306 ) Turkish Resturants in Lenox Hill, Manhattan:0\n",
      "( 111 / 306 ) Turkish Resturants in Roosevelt Island, Manhattan:0\n",
      "( 112 / 306 ) Turkish Resturants in Upper West Side, Manhattan:1\n",
      "( 113 / 306 ) Turkish Resturants in Lincoln Square, Manhattan:0\n",
      "( 114 / 306 ) Turkish Resturants in Clinton, Manhattan:0\n",
      "( 115 / 306 ) Turkish Resturants in Midtown, Manhattan:0\n",
      "( 116 / 306 ) Turkish Resturants in Murray Hill, Manhattan:0\n",
      "( 117 / 306 ) Turkish Resturants in Chelsea, Manhattan:0\n",
      "( 118 / 306 ) Turkish Resturants in Greenwich Village, Manhattan:0\n",
      "( 119 / 306 ) Turkish Resturants in East Village, Manhattan:0\n",
      "( 120 / 306 ) Turkish Resturants in Lower East Side, Manhattan:0\n",
      "( 121 / 306 ) Turkish Resturants in Tribeca, Manhattan:0\n",
      "( 122 / 306 ) Turkish Resturants in Little Italy, Manhattan:1\n",
      "( 123 / 306 ) Turkish Resturants in Soho, Manhattan:0\n",
      "( 124 / 306 ) Turkish Resturants in West Village, Manhattan:0\n",
      "( 125 / 306 ) Turkish Resturants in Manhattan Valley, Manhattan:0\n",
      "( 126 / 306 ) Turkish Resturants in Morningside Heights, Manhattan:0\n",
      "( 127 / 306 ) Turkish Resturants in Gramercy, Manhattan:0\n",
      "( 128 / 306 ) Turkish Resturants in Battery Park City, Manhattan:0\n",
      "( 129 / 306 ) Turkish Resturants in Financial District, Manhattan:0\n",
      "( 130 / 306 ) Turkish Resturants in Astoria, Queens:1\n",
      "( 131 / 306 ) Turkish Resturants in Woodside, Queens:0\n",
      "( 132 / 306 ) Turkish Resturants in Jackson Heights, Queens:0\n",
      "( 133 / 306 ) Turkish Resturants in Elmhurst, Queens:0\n",
      "( 134 / 306 ) Turkish Resturants in Howard Beach, Queens:0\n",
      "( 135 / 306 ) Turkish Resturants in Corona, Queens:0\n",
      "( 136 / 306 ) Turkish Resturants in Forest Hills, Queens:0\n",
      "( 137 / 306 ) Turkish Resturants in Kew Gardens, Queens:0\n",
      "( 138 / 306 ) Turkish Resturants in Richmond Hill, Queens:0\n",
      "( 139 / 306 ) Turkish Resturants in Flushing, Queens:0\n",
      "( 140 / 306 ) Turkish Resturants in Long Island City, Queens:0\n",
      "( 141 / 306 ) Turkish Resturants in Sunnyside, Queens:2\n",
      "( 142 / 306 ) Turkish Resturants in East Elmhurst, Queens:0\n",
      "( 143 / 306 ) Turkish Resturants in Maspeth, Queens:0\n",
      "( 144 / 306 ) Turkish Resturants in Ridgewood, Queens:0\n",
      "( 145 / 306 ) Turkish Resturants in Glendale, Queens:0\n",
      "( 146 / 306 ) Turkish Resturants in Rego Park, Queens:0\n",
      "( 147 / 306 ) Turkish Resturants in Woodhaven, Queens:0\n",
      "( 148 / 306 ) Turkish Resturants in Ozone Park, Queens:0\n",
      "( 149 / 306 ) Turkish Resturants in South Ozone Park, Queens:0\n",
      "( 150 / 306 ) Turkish Resturants in College Point, Queens:0\n",
      "( 151 / 306 ) Turkish Resturants in Whitestone, Queens:0\n",
      "( 152 / 306 ) Turkish Resturants in Bayside, Queens:0\n",
      "( 153 / 306 ) Turkish Resturants in Auburndale, Queens:0\n",
      "( 154 / 306 ) Turkish Resturants in Little Neck, Queens:0\n",
      "( 155 / 306 ) Turkish Resturants in Douglaston, Queens:0\n",
      "( 156 / 306 ) Turkish Resturants in Glen Oaks, Queens:0\n",
      "( 157 / 306 ) Turkish Resturants in Bellerose, Queens:0\n",
      "( 158 / 306 ) Turkish Resturants in Kew Gardens Hills, Queens:0\n",
      "( 159 / 306 ) Turkish Resturants in Fresh Meadows, Queens:0\n",
      "( 160 / 306 ) Turkish Resturants in Briarwood, Queens:0\n",
      "( 161 / 306 ) Turkish Resturants in Jamaica Center, Queens:0\n",
      "( 162 / 306 ) Turkish Resturants in Oakland Gardens, Queens:0\n",
      "( 163 / 306 ) Turkish Resturants in Queens Village, Queens:0\n",
      "( 164 / 306 ) Turkish Resturants in Hollis, Queens:0\n",
      "( 165 / 306 ) Turkish Resturants in South Jamaica, Queens:0\n",
      "( 166 / 306 ) Turkish Resturants in St. Albans, Queens:0\n",
      "( 167 / 306 ) Turkish Resturants in Rochdale, Queens:0\n",
      "( 168 / 306 ) Turkish Resturants in Springfield Gardens, Queens:0\n",
      "( 169 / 306 ) Turkish Resturants in Cambria Heights, Queens:0\n",
      "( 170 / 306 ) Turkish Resturants in Rosedale, Queens:0\n",
      "( 171 / 306 ) Turkish Resturants in Far Rockaway, Queens:0\n",
      "( 172 / 306 ) Turkish Resturants in Broad Channel, Queens:0\n",
      "( 173 / 306 ) Turkish Resturants in Breezy Point, Queens:0\n",
      "( 174 / 306 ) Turkish Resturants in Steinway, Queens:1\n",
      "( 175 / 306 ) Turkish Resturants in Beechhurst, Queens:0\n",
      "( 176 / 306 ) Turkish Resturants in Bay Terrace, Queens:0\n",
      "( 177 / 306 ) Turkish Resturants in Edgemere, Queens:0\n",
      "( 178 / 306 ) Turkish Resturants in Arverne, Queens:0\n",
      "( 179 / 306 ) Turkish Resturants in Rockaway Beach, Queens:0\n",
      "( 180 / 306 ) Turkish Resturants in Neponsit, Queens:0\n",
      "( 181 / 306 ) Turkish Resturants in Murray Hill, Queens:0\n",
      "( 182 / 306 ) Turkish Resturants in Floral Park, Queens:0\n",
      "( 183 / 306 ) Turkish Resturants in Holliswood, Queens:0\n",
      "( 184 / 306 ) Turkish Resturants in Jamaica Estates, Queens:0\n",
      "( 185 / 306 ) Turkish Resturants in Queensboro Hill, Queens:0\n",
      "( 186 / 306 ) Turkish Resturants in Hillcrest, Queens:0\n",
      "( 187 / 306 ) Turkish Resturants in Ravenswood, Queens:1\n",
      "( 188 / 306 ) Turkish Resturants in Lindenwood, Queens:0\n",
      "( 189 / 306 ) Turkish Resturants in Laurelton, Queens:0\n",
      "( 190 / 306 ) Turkish Resturants in Lefrak City, Queens:0\n",
      "( 191 / 306 ) Turkish Resturants in Belle Harbor, Queens:0\n",
      "( 192 / 306 ) Turkish Resturants in Rockaway Park, Queens:0\n",
      "( 193 / 306 ) Turkish Resturants in Somerville, Queens:0\n",
      "( 194 / 306 ) Turkish Resturants in Brookville, Queens:0\n",
      "( 195 / 306 ) Turkish Resturants in Bellaire, Queens:0\n",
      "( 196 / 306 ) Turkish Resturants in North Corona, Queens:0\n",
      "( 197 / 306 ) Turkish Resturants in Forest Hills Gardens, Queens:2\n",
      "( 198 / 306 ) Turkish Resturants in St. George, Staten Island:0\n",
      "( 199 / 306 ) Turkish Resturants in New Brighton, Staten Island:0\n",
      "( 200 / 306 ) Turkish Resturants in Stapleton, Staten Island:0\n",
      "( 201 / 306 ) Turkish Resturants in Rosebank, Staten Island:0\n",
      "( 202 / 306 ) Turkish Resturants in West Brighton, Staten Island:0\n",
      "( 203 / 306 ) Turkish Resturants in Grymes Hill, Staten Island:0\n",
      "( 204 / 306 ) Turkish Resturants in Todt Hill, Staten Island:0\n",
      "( 205 / 306 ) Turkish Resturants in South Beach, Staten Island:0\n",
      "( 206 / 306 ) Turkish Resturants in Port Richmond, Staten Island:0\n",
      "( 207 / 306 ) Turkish Resturants in Mariner's Harbor, Staten Island:0\n",
      "( 208 / 306 ) Turkish Resturants in Port Ivory, Staten Island:0\n",
      "( 209 / 306 ) Turkish Resturants in Castleton Corners, Staten Island:0\n",
      "( 210 / 306 ) Turkish Resturants in New Springville, Staten Island:0\n",
      "( 211 / 306 ) Turkish Resturants in Travis, Staten Island:0\n",
      "( 212 / 306 ) Turkish Resturants in New Dorp, Staten Island:0\n",
      "( 213 / 306 ) Turkish Resturants in Oakwood, Staten Island:0\n",
      "( 214 / 306 ) Turkish Resturants in Great Kills, Staten Island:0\n",
      "( 215 / 306 ) Turkish Resturants in Eltingville, Staten Island:0\n",
      "( 216 / 306 ) Turkish Resturants in Annadale, Staten Island:0\n",
      "( 217 / 306 ) Turkish Resturants in Woodrow, Staten Island:0\n",
      "( 218 / 306 ) Turkish Resturants in Tottenville, Staten Island:0\n",
      "( 219 / 306 ) Turkish Resturants in Tompkinsville, Staten Island:0\n",
      "( 220 / 306 ) Turkish Resturants in Silver Lake, Staten Island:0\n",
      "( 221 / 306 ) Turkish Resturants in Sunnyside, Staten Island:0\n",
      "( 222 / 306 ) Turkish Resturants in Ditmas Park, Brooklyn:0\n",
      "( 223 / 306 ) Turkish Resturants in Wingate, Brooklyn:0\n",
      "( 224 / 306 ) Turkish Resturants in Rugby, Brooklyn:0\n",
      "( 225 / 306 ) Turkish Resturants in Park Hill, Staten Island:0\n",
      "( 226 / 306 ) Turkish Resturants in Westerleigh, Staten Island:0\n",
      "( 227 / 306 ) Turkish Resturants in Graniteville, Staten Island:0\n",
      "( 228 / 306 ) Turkish Resturants in Arlington, Staten Island:0\n",
      "( 229 / 306 ) Turkish Resturants in Arrochar, Staten Island:0\n",
      "( 230 / 306 ) Turkish Resturants in Grasmere, Staten Island:0\n",
      "( 231 / 306 ) Turkish Resturants in Old Town, Staten Island:0\n",
      "( 232 / 306 ) Turkish Resturants in Dongan Hills, Staten Island:0\n",
      "( 233 / 306 ) Turkish Resturants in Midland Beach, Staten Island:0\n",
      "( 234 / 306 ) Turkish Resturants in Grant City, Staten Island:0\n",
      "( 235 / 306 ) Turkish Resturants in New Dorp Beach, Staten Island:0\n",
      "( 236 / 306 ) Turkish Resturants in Bay Terrace, Staten Island:0\n",
      "( 237 / 306 ) Turkish Resturants in Huguenot, Staten Island:0\n",
      "( 238 / 306 ) Turkish Resturants in Pleasant Plains, Staten Island:0\n",
      "( 239 / 306 ) Turkish Resturants in Butler Manor, Staten Island:0\n",
      "( 240 / 306 ) Turkish Resturants in Charleston, Staten Island:0\n",
      "( 241 / 306 ) Turkish Resturants in Rossville, Staten Island:0\n",
      "( 242 / 306 ) Turkish Resturants in Arden Heights, Staten Island:0\n",
      "( 243 / 306 ) Turkish Resturants in Greenridge, Staten Island:0\n",
      "( 244 / 306 ) Turkish Resturants in Heartland Village, Staten Island:0\n",
      "( 245 / 306 ) Turkish Resturants in Chelsea, Staten Island:0\n",
      "( 246 / 306 ) Turkish Resturants in Bloomfield, Staten Island:0\n",
      "( 247 / 306 ) Turkish Resturants in Bulls Head, Staten Island:0\n",
      "( 248 / 306 ) Turkish Resturants in Carnegie Hill, Manhattan:0\n",
      "( 249 / 306 ) Turkish Resturants in Noho, Manhattan:0\n",
      "( 250 / 306 ) Turkish Resturants in Civic Center, Manhattan:0\n",
      "( 251 / 306 ) Turkish Resturants in Midtown South, Manhattan:0\n",
      "( 252 / 306 ) Turkish Resturants in Richmond Town, Staten Island:0\n",
      "( 253 / 306 ) Turkish Resturants in Shore Acres, Staten Island:0\n",
      "( 254 / 306 ) Turkish Resturants in Clifton, Staten Island:0\n",
      "( 255 / 306 ) Turkish Resturants in Concord, Staten Island:0\n",
      "( 256 / 306 ) Turkish Resturants in Emerson Hill, Staten Island:0\n",
      "( 257 / 306 ) Turkish Resturants in Randall Manor, Staten Island:0\n",
      "( 258 / 306 ) Turkish Resturants in Howland Hook, Staten Island:0\n",
      "( 259 / 306 ) Turkish Resturants in Elm Park, Staten Island:0\n",
      "( 260 / 306 ) Turkish Resturants in Remsen Village, Brooklyn:0\n",
      "( 261 / 306 ) Turkish Resturants in New Lots, Brooklyn:0\n",
      "( 262 / 306 ) Turkish Resturants in Paerdegat Basin, Brooklyn:0\n",
      "( 263 / 306 ) Turkish Resturants in Mill Basin, Brooklyn:0\n",
      "( 264 / 306 ) Turkish Resturants in Jamaica Hills, Queens:0\n",
      "( 265 / 306 ) Turkish Resturants in Utopia, Queens:0\n",
      "( 266 / 306 ) Turkish Resturants in Pomonok, Queens:0\n",
      "( 267 / 306 ) Turkish Resturants in Astoria Heights, Queens:0\n",
      "( 268 / 306 ) Turkish Resturants in Claremont Village, Bronx:0\n",
      "( 269 / 306 ) Turkish Resturants in Concourse Village, Bronx:0\n",
      "( 270 / 306 ) Turkish Resturants in Mount Eden, Bronx:0\n",
      "( 271 / 306 ) Turkish Resturants in Mount Hope, Bronx:0\n",
      "( 272 / 306 ) Turkish Resturants in Sutton Place, Manhattan:0\n",
      "( 273 / 306 ) Turkish Resturants in Hunters Point, Queens:0\n",
      "( 274 / 306 ) Turkish Resturants in Turtle Bay, Manhattan:1\n",
      "( 275 / 306 ) Turkish Resturants in Tudor City, Manhattan:1\n",
      "( 276 / 306 ) Turkish Resturants in Stuyvesant Town, Manhattan:0\n",
      "( 277 / 306 ) Turkish Resturants in Flatiron, Manhattan:0\n",
      "( 278 / 306 ) Turkish Resturants in Sunnyside Gardens, Queens:2\n",
      "( 279 / 306 ) Turkish Resturants in Blissville, Queens:0\n",
      "( 280 / 306 ) Turkish Resturants in Fulton Ferry, Brooklyn:0\n",
      "( 281 / 306 ) Turkish Resturants in Vinegar Hill, Brooklyn:0\n",
      "( 282 / 306 ) Turkish Resturants in Weeksville, Brooklyn:0\n",
      "( 283 / 306 ) Turkish Resturants in Broadway Junction, Brooklyn:0\n",
      "( 284 / 306 ) Turkish Resturants in Dumbo, Brooklyn:0\n",
      "( 285 / 306 ) Turkish Resturants in Manor Heights, Staten Island:0\n",
      "( 286 / 306 ) Turkish Resturants in Willowbrook, Staten Island:0\n",
      "( 287 / 306 ) Turkish Resturants in Sandy Ground, Staten Island:0\n",
      "( 288 / 306 ) Turkish Resturants in Egbertville, Staten Island:0\n",
      "( 289 / 306 ) Turkish Resturants in Roxbury, Queens:0\n",
      "( 290 / 306 ) Turkish Resturants in Homecrest, Brooklyn:0\n",
      "( 291 / 306 ) Turkish Resturants in Middle Village, Queens:0\n",
      "( 292 / 306 ) Turkish Resturants in Prince's Bay, Staten Island:0\n",
      "( 293 / 306 ) Turkish Resturants in Lighthouse Hill, Staten Island:0\n",
      "( 294 / 306 ) Turkish Resturants in Richmond Valley, Staten Island:0\n",
      "( 295 / 306 ) Turkish Resturants in Malba, Queens:0\n",
      "( 296 / 306 ) Turkish Resturants in Highland Park, Brooklyn:0\n",
      "( 297 / 306 ) Turkish Resturants in Madison, Brooklyn:0\n",
      "( 298 / 306 ) Turkish Resturants in Bronxdale, Bronx:0\n",
      "( 299 / 306 ) Turkish Resturants in Allerton, Bronx:0\n",
      "( 300 / 306 ) Turkish Resturants in Kingsbridge Heights, Bronx:0\n",
      "( 301 / 306 ) Turkish Resturants in Erasmus, Brooklyn:0\n",
      "( 302 / 306 ) Turkish Resturants in Hudson Yards, Manhattan:0\n",
      "( 303 / 306 ) Turkish Resturants in Hammels, Queens:0\n",
      "( 304 / 306 ) Turkish Resturants in Bayswater, Queens:0\n",
      "( 305 / 306 ) Turkish Resturants in Queensbridge, Queens:0\n",
      "( 306 / 306 ) Turkish Resturants in Fox Hills, Staten Island:0\n"
     ]
    }
   ],
   "source": [
    "# prepare neighborhood list that contains Turkish resturants\n",
    "column_names=['Borough', 'Neighborhood', 'ID','Name']\n",
    "turkish_rest_ny=pd.DataFrame(columns=column_names)\n",
    "count=1\n",
    "for row in new_york_data.values.tolist():\n",
    "    Borough, Neighborhood, Latitude, Longitude=row\n",
    "    venues = get_venues(Latitude,Longitude)\n",
    "    turkish_resturants=venues[venues['Category']=='Turkish Restaurant']   \n",
    "    print('(',count,'/',len(new_york_data),')','Turkish Resturants in '+Neighborhood+', '+Borough+':'+str(len(turkish_resturants)))\n",
    "    for resturant_detail in turkish_resturants.values.tolist():\n",
    "        id, name , category=resturant_detail\n",
    "        turkish_rest_ny = turkish_rest_ny.append({'Borough': Borough,\n",
    "                                                'Neighborhood': Neighborhood, \n",
    "                                                'ID': id,\n",
    "                                                'Name' : name\n",
    "                                               }, ignore_index=True)\n",
    "    count+=1"
   ]
  },
  {
   "cell_type": "code",
   "execution_count": 15,
   "metadata": {},
   "outputs": [
    {
     "data": {
      "text/html": [
       "<div>\n",
       "<style scoped>\n",
       "    .dataframe tbody tr th:only-of-type {\n",
       "        vertical-align: middle;\n",
       "    }\n",
       "\n",
       "    .dataframe tbody tr th {\n",
       "        vertical-align: top;\n",
       "    }\n",
       "\n",
       "    .dataframe thead th {\n",
       "        text-align: right;\n",
       "    }\n",
       "</style>\n",
       "<table border=\"1\" class=\"dataframe\">\n",
       "  <thead>\n",
       "    <tr style=\"text-align: right;\">\n",
       "      <th></th>\n",
       "      <th>Borough</th>\n",
       "      <th>Neighborhood</th>\n",
       "      <th>ID</th>\n",
       "      <th>Name</th>\n",
       "    </tr>\n",
       "  </thead>\n",
       "  <tbody>\n",
       "    <tr>\n",
       "      <th>0</th>\n",
       "      <td>Brooklyn</td>\n",
       "      <td>Bay Ridge</td>\n",
       "      <td>579d3e7c498effa33c0450af</td>\n",
       "      <td>Istanbul Bay</td>\n",
       "    </tr>\n",
       "    <tr>\n",
       "      <th>1</th>\n",
       "      <td>Brooklyn</td>\n",
       "      <td>Bay Ridge</td>\n",
       "      <td>4d420ba9f0dba1cd6c752f49</td>\n",
       "      <td>Hazar Turkish Kebab</td>\n",
       "    </tr>\n",
       "    <tr>\n",
       "      <th>2</th>\n",
       "      <td>Brooklyn</td>\n",
       "      <td>Gravesend</td>\n",
       "      <td>51a2a2a3498e0d5d337f137b</td>\n",
       "      <td>Wood Spoon</td>\n",
       "    </tr>\n",
       "    <tr>\n",
       "      <th>3</th>\n",
       "      <td>Brooklyn</td>\n",
       "      <td>Sheepshead Bay</td>\n",
       "      <td>4fcbfc92e4b088c92e7e97ad</td>\n",
       "      <td>Opera Cafe Lounge</td>\n",
       "    </tr>\n",
       "    <tr>\n",
       "      <th>4</th>\n",
       "      <td>Brooklyn</td>\n",
       "      <td>Sheepshead Bay</td>\n",
       "      <td>4b1d5405f964a520d70e24e3</td>\n",
       "      <td>Liman Restaurant</td>\n",
       "    </tr>\n",
       "  </tbody>\n",
       "</table>\n",
       "</div>"
      ],
      "text/plain": [
       "    Borough    Neighborhood                        ID                 Name\n",
       "0  Brooklyn       Bay Ridge  579d3e7c498effa33c0450af         Istanbul Bay\n",
       "1  Brooklyn       Bay Ridge  4d420ba9f0dba1cd6c752f49  Hazar Turkish Kebab\n",
       "2  Brooklyn       Gravesend  51a2a2a3498e0d5d337f137b           Wood Spoon\n",
       "3  Brooklyn  Sheepshead Bay  4fcbfc92e4b088c92e7e97ad    Opera Cafe Lounge\n",
       "4  Brooklyn  Sheepshead Bay  4b1d5405f964a520d70e24e3     Liman Restaurant"
      ]
     },
     "execution_count": 15,
     "metadata": {},
     "output_type": "execute_result"
    }
   ],
   "source": [
    "turkish_rest_ny.head()"
   ]
  },
  {
   "cell_type": "code",
   "execution_count": 17,
   "metadata": {},
   "outputs": [
    {
     "data": {
      "text/plain": [
       "(28, 4)"
      ]
     },
     "execution_count": 17,
     "metadata": {},
     "output_type": "execute_result"
    }
   ],
   "source": [
    "turkish_rest_ny.shape"
   ]
  },
  {
   "cell_type": "markdown",
   "metadata": {},
   "source": [
    "### We see that there are currently 28 Turkish Restaurants in NYC"
   ]
  },
  {
   "cell_type": "markdown",
   "metadata": {},
   "source": [
    "Lets create a bar plot to see where those Turkish Restaurants are"
   ]
  },
  {
   "cell_type": "code",
   "execution_count": 19,
   "metadata": {},
   "outputs": [
    {
     "data": {
      "image/png": "[encoded data removed]",
      "text/plain": [
       "<Figure size 900x500 with 1 Axes>"
      ]
     },
     "metadata": {
      "needs_background": "light"
     },
     "output_type": "display_data"
    }
   ],
   "source": [
    "plt.figure(figsize=(9,5), dpi = 100)\n",
    "# title\n",
    "plt.title('Number of Turkish Resturants for each Borough in New York City')\n",
    "#On x-axis\n",
    "plt.xlabel('Borough', fontsize = 15)\n",
    "#On y-axis\n",
    "plt.ylabel('No.of Turkish Resturants', fontsize=15)\n",
    "#giving a bar plot\n",
    "turkish_rest_ny.groupby('Borough')['ID'].count().plot(kind='bar')\n",
    "#legend\n",
    "plt.legend()\n",
    "#displays the plot\n",
    "plt.show()"
   ]
  },
  {
   "cell_type": "markdown",
   "metadata": {},
   "source": [
    "Lets create another one to see the neighborhoods"
   ]
  },
  {
   "cell_type": "code",
   "execution_count": 20,
   "metadata": {},
   "outputs": [
    {
     "data": {
      "image/png": "[encoded data removed]",
      "text/plain": [
       "<Figure size 900x500 with 1 Axes>"
      ]
     },
     "metadata": {
      "needs_background": "light"
     },
     "output_type": "display_data"
    }
   ],
   "source": [
    "plt.figure(figsize=(9,5), dpi = 100)\n",
    "# title\n",
    "plt.title('Number of Turkish Resturants for each Neighborhood in New York City')\n",
    "#On x-axis\n",
    "plt.xlabel('Neighborhood', fontsize = 15)\n",
    "#On y-axis\n",
    "plt.ylabel('No.of Turkish Resturants', fontsize=15)\n",
    "#giving a bar plot\n",
    "turkish_rest_ny.groupby('Neighborhood')['ID'].count().nlargest(5).plot(kind='bar')\n",
    "#legend\n",
    "plt.legend()\n",
    "#displays the plot\n",
    "plt.show()"
   ]
  },
  {
   "cell_type": "markdown",
   "metadata": {},
   "source": [
    "### Rankings of these restaurants for further analysis"
   ]
  },
  {
   "cell_type": "code",
   "execution_count": 21,
   "metadata": {},
   "outputs": [
    {
     "name": "stdout",
     "output_type": "stream",
     "text": [
      "                         ID          Name  Likes  Rating  Tips\n",
      "0  579d3e7c498effa33c0450af  Istanbul Bay     23     7.9     4\n",
      "( 1 / 28 ) processed\n",
      "                         ID                 Name  Likes  Rating  Tips\n",
      "0  4d420ba9f0dba1cd6c752f49  Hazar Turkish Kebab     44     8.1    25\n",
      "( 2 / 28 ) processed\n",
      "                         ID        Name  Likes  Rating  Tips\n",
      "0  51a2a2a3498e0d5d337f137b  Wood Spoon      5     7.4     3\n",
      "( 3 / 28 ) processed\n",
      "                         ID               Name  Likes  Rating  Tips\n",
      "0  4fcbfc92e4b088c92e7e97ad  Opera Cafe Lounge    257     8.3    53\n",
      "( 4 / 28 ) processed\n",
      "                         ID              Name  Likes  Rating  Tips\n",
      "0  4b1d5405f964a520d70e24e3  Liman Restaurant     96     8.1    37\n",
      "( 5 / 28 ) processed\n",
      "                         ID                              Name  Likes  Rating  \\\n",
      "0  4a986cf5f964a520f32b20e3  Istanbul Restaurant Fish & Kebab     35     7.9   \n",
      "\n",
      "   Tips  \n",
      "0    15  \n",
      "( 6 / 28 ) processed\n",
      "                         ID                 Name  Likes  Rating  Tips\n",
      "0  53800e9c498e1b7adfbaaf5d  Rocca Cafe & Lounge    115     7.2    20\n",
      "( 7 / 28 ) processed\n",
      "                         ID                     Name  Likes  Rating  Tips\n",
      "0  4a060d32f964a520b1721fe3  Taci's Beyti Restaurant    249     8.9    67\n",
      "( 8 / 28 ) processed\n",
      "                         ID               Name  Likes  Rating  Tips\n",
      "0  4fcbfc92e4b088c92e7e97ad  Opera Cafe Lounge    257     8.3    53\n",
      "( 9 / 28 ) processed\n",
      "                         ID              Name  Likes  Rating  Tips\n",
      "0  4b1d5405f964a520d70e24e3  Liman Restaurant     96     8.1    37\n",
      "( 10 / 28 ) processed\n",
      "                         ID                              Name  Likes  Rating  \\\n",
      "0  4a986cf5f964a520f32b20e3  Istanbul Restaurant Fish & Kebab     35     7.9   \n",
      "\n",
      "   Tips  \n",
      "0    15  \n",
      "( 11 / 28 ) processed\n",
      "                         ID                 Name  Likes  Rating  Tips\n",
      "0  53800e9c498e1b7adfbaaf5d  Rocca Cafe & Lounge    115     7.2    20\n",
      "( 12 / 28 ) processed\n",
      "                         ID                                     Name  Likes  \\\n",
      "0  4aef96d2f964a5206fd921e3  Istanbul Turkish Fast Food & Restaurant     69   \n",
      "\n",
      "   Rating  Tips  \n",
      "0     7.7    39  \n",
      "( 13 / 28 ) processed\n",
      "                         ID          Name  Likes  Rating  Tips\n",
      "0  579d3e7c498effa33c0450af  Istanbul Bay     23     7.9     4\n",
      "( 14 / 28 ) processed\n",
      "                         ID                     Name  Likes  Rating  Tips\n",
      "0  4a060d32f964a520b1721fe3  Taci's Beyti Restaurant    249     8.9    67\n",
      "( 15 / 28 ) processed\n",
      "                         ID                             Name  Likes  Rating  \\\n",
      "0  479309d9f964a520564d1fe3  Bodrum Mediterranean Restaurant    128     8.0   \n",
      "\n",
      "   Tips  \n",
      "0    49  \n",
      "( 16 / 28 ) processed\n",
      "                         ID           Name  Likes  Rating  Tips\n",
      "0  5008a087e4b034274e2743d8  Little Rascal    203     7.9    66\n",
      "( 17 / 28 ) processed\n",
      "                         ID                Name  Likes  Rating  Tips\n",
      "0  5509f620498ed000afdc1bd0  Truva Cafe & Grill     71     8.6    22\n",
      "( 18 / 28 ) processed\n",
      "                         ID           Name  Likes  Rating  Tips\n",
      "0  4b08b328f964a520021123e3  Turkish Grill     52     7.7    25\n",
      "( 19 / 28 ) processed\n",
      "                         ID          Name  Likes  Rating  Tips\n",
      "0  4a75dd5af964a52076e11fe3  Mangal Kebab     68     8.3    37\n",
      "( 20 / 28 ) processed\n",
      "                         ID                Name  Likes  Rating  Tips\n",
      "0  5509f620498ed000afdc1bd0  Truva Cafe & Grill     71     8.6    22\n",
      "( 21 / 28 ) processed\n",
      "                         ID     Name  Likes  Rating  Tips\n",
      "0  5cb11a0766f3cd002c371624  Lokanta     20     8.6     8\n",
      "( 22 / 28 ) processed\n",
      "                         ID    Name  Likes  Rating  Tips\n",
      "0  5946e1464c954c4ff506a7f7  Rimtin     12     8.3     3\n",
      "( 23 / 28 ) processed\n",
      "                         ID    Name  Likes  Rating  Tips\n",
      "0  4f7394b2e4b0a60ba5f52af7  Taci's     13     7.4    14\n",
      "( 24 / 28 ) processed\n",
      "                         ID     Name  Likes  Rating  Tips\n",
      "0  50fc9a88e4b04cfffaebe2cf  Sip Sak    284     8.9   101\n",
      "( 25 / 28 ) processed\n",
      "                         ID     Name  Likes  Rating  Tips\n",
      "0  50fc9a88e4b04cfffaebe2cf  Sip Sak    284     8.9   101\n",
      "( 26 / 28 ) processed\n",
      "                         ID          Name  Likes  Rating  Tips\n",
      "0  4a75dd5af964a52076e11fe3  Mangal Kebab     68     8.3    37\n",
      "( 27 / 28 ) processed\n",
      "                         ID           Name  Likes  Rating  Tips\n",
      "0  4b08b328f964a520021123e3  Turkish Grill     52     7.7    25\n",
      "( 28 / 28 ) processed\n"
     ]
    }
   ],
   "source": [
    "# prepare neighborhood list that contains Turkish resturants\n",
    "column_names=['Borough', 'Neighborhood', 'ID','Name','Likes','Rating','Tips']\n",
    "turkish_rest_stats_ny=pd.DataFrame(columns=column_names)\n",
    "count=1\n",
    "\n",
    "\n",
    "for row in turkish_rest_ny.values.tolist():\n",
    "    Borough,Neighborhood,ID,Name=row\n",
    "    try:\n",
    "        venue_details=get_venue_details(ID)\n",
    "        print(venue_details)\n",
    "        id,name,likes,rating,tips=venue_details.values.tolist()[0]\n",
    "    except IndexError:\n",
    "        print('No data available for id=',ID)\n",
    "        # we will assign 0 value for these resturants as they may have been \n",
    "        #recently opened or details does not exist in FourSquare Database\n",
    "        id,name,likes,rating,tips=[0]*5\n",
    "    print('(',count,'/',len(turkish_rest_ny),')','processed')\n",
    "    turkish_rest_stats_ny = turkish_rest_stats_ny.append({'Borough': Borough,\n",
    "                                                'Neighborhood': Neighborhood, \n",
    "                                                'ID': id,\n",
    "                                                'Name' : name,\n",
    "                                                'Likes' : likes,\n",
    "                                                'Rating' : rating,\n",
    "                                                'Tips' : tips\n",
    "                                               }, ignore_index=True)\n",
    "    count+=1"
   ]
  },
  {
   "cell_type": "code",
   "execution_count": 22,
   "metadata": {},
   "outputs": [
    {
     "data": {
      "text/html": [
       "<div>\n",
       "<style scoped>\n",
       "    .dataframe tbody tr th:only-of-type {\n",
       "        vertical-align: middle;\n",
       "    }\n",
       "\n",
       "    .dataframe tbody tr th {\n",
       "        vertical-align: top;\n",
       "    }\n",
       "\n",
       "    .dataframe thead th {\n",
       "        text-align: right;\n",
       "    }\n",
       "</style>\n",
       "<table border=\"1\" class=\"dataframe\">\n",
       "  <thead>\n",
       "    <tr style=\"text-align: right;\">\n",
       "      <th></th>\n",
       "      <th>Borough</th>\n",
       "      <th>Neighborhood</th>\n",
       "      <th>ID</th>\n",
       "      <th>Name</th>\n",
       "      <th>Likes</th>\n",
       "      <th>Rating</th>\n",
       "      <th>Tips</th>\n",
       "    </tr>\n",
       "  </thead>\n",
       "  <tbody>\n",
       "    <tr>\n",
       "      <th>0</th>\n",
       "      <td>Brooklyn</td>\n",
       "      <td>Bay Ridge</td>\n",
       "      <td>579d3e7c498effa33c0450af</td>\n",
       "      <td>Istanbul Bay</td>\n",
       "      <td>23</td>\n",
       "      <td>7.9</td>\n",
       "      <td>4</td>\n",
       "    </tr>\n",
       "    <tr>\n",
       "      <th>1</th>\n",
       "      <td>Brooklyn</td>\n",
       "      <td>Bay Ridge</td>\n",
       "      <td>4d420ba9f0dba1cd6c752f49</td>\n",
       "      <td>Hazar Turkish Kebab</td>\n",
       "      <td>44</td>\n",
       "      <td>8.1</td>\n",
       "      <td>25</td>\n",
       "    </tr>\n",
       "    <tr>\n",
       "      <th>2</th>\n",
       "      <td>Brooklyn</td>\n",
       "      <td>Gravesend</td>\n",
       "      <td>51a2a2a3498e0d5d337f137b</td>\n",
       "      <td>Wood Spoon</td>\n",
       "      <td>5</td>\n",
       "      <td>7.4</td>\n",
       "      <td>3</td>\n",
       "    </tr>\n",
       "    <tr>\n",
       "      <th>3</th>\n",
       "      <td>Brooklyn</td>\n",
       "      <td>Sheepshead Bay</td>\n",
       "      <td>4fcbfc92e4b088c92e7e97ad</td>\n",
       "      <td>Opera Cafe Lounge</td>\n",
       "      <td>257</td>\n",
       "      <td>8.3</td>\n",
       "      <td>53</td>\n",
       "    </tr>\n",
       "    <tr>\n",
       "      <th>4</th>\n",
       "      <td>Brooklyn</td>\n",
       "      <td>Sheepshead Bay</td>\n",
       "      <td>4b1d5405f964a520d70e24e3</td>\n",
       "      <td>Liman Restaurant</td>\n",
       "      <td>96</td>\n",
       "      <td>8.1</td>\n",
       "      <td>37</td>\n",
       "    </tr>\n",
       "  </tbody>\n",
       "</table>\n",
       "</div>"
      ],
      "text/plain": [
       "    Borough    Neighborhood                        ID                 Name  \\\n",
       "0  Brooklyn       Bay Ridge  579d3e7c498effa33c0450af         Istanbul Bay   \n",
       "1  Brooklyn       Bay Ridge  4d420ba9f0dba1cd6c752f49  Hazar Turkish Kebab   \n",
       "2  Brooklyn       Gravesend  51a2a2a3498e0d5d337f137b           Wood Spoon   \n",
       "3  Brooklyn  Sheepshead Bay  4fcbfc92e4b088c92e7e97ad    Opera Cafe Lounge   \n",
       "4  Brooklyn  Sheepshead Bay  4b1d5405f964a520d70e24e3     Liman Restaurant   \n",
       "\n",
       "  Likes  Rating Tips  \n",
       "0    23     7.9    4  \n",
       "1    44     8.1   25  \n",
       "2     5     7.4    3  \n",
       "3   257     8.3   53  \n",
       "4    96     8.1   37  "
      ]
     },
     "execution_count": 22,
     "metadata": {},
     "output_type": "execute_result"
    }
   ],
   "source": [
    "turkish_rest_stats_ny.head()"
   ]
  },
  {
   "cell_type": "code",
   "execution_count": 23,
   "metadata": {},
   "outputs": [
    {
     "data": {
      "text/plain": [
       "(28, 7)"
      ]
     },
     "execution_count": 23,
     "metadata": {},
     "output_type": "execute_result"
    }
   ],
   "source": [
    "turkish_rest_stats_ny.shape"
   ]
  },
  {
   "cell_type": "code",
   "execution_count": 24,
   "metadata": {},
   "outputs": [
    {
     "data": {
      "text/plain": [
       "(28, 4)"
      ]
     },
     "execution_count": 24,
     "metadata": {},
     "output_type": "execute_result"
    }
   ],
   "source": [
    "turkish_rest_ny.shape"
   ]
  },
  {
   "cell_type": "markdown",
   "metadata": {},
   "source": [
    "### Creating a backup file for this dataset"
   ]
  },
  {
   "cell_type": "code",
   "execution_count": 25,
   "metadata": {},
   "outputs": [],
   "source": [
    "turkish_rest_stats_ny.to_csv('turkish_rest_stats_ny.csv', index=False)"
   ]
  },
  {
   "cell_type": "code",
   "execution_count": 26,
   "metadata": {},
   "outputs": [],
   "source": [
    "turkish_rest_stats_ny_csv=pd.read_csv('turkish_rest_stats_ny.csv')"
   ]
  },
  {
   "cell_type": "code",
   "execution_count": 28,
   "metadata": {},
   "outputs": [
    {
     "data": {
      "text/plain": [
       "(28, 7)"
      ]
     },
     "execution_count": 28,
     "metadata": {},
     "output_type": "execute_result"
    }
   ],
   "source": [
    "turkish_rest_stats_ny_csv.shape"
   ]
  },
  {
   "cell_type": "code",
   "execution_count": 29,
   "metadata": {},
   "outputs": [
    {
     "data": {
      "text/html": [
       "<div>\n",
       "<style scoped>\n",
       "    .dataframe tbody tr th:only-of-type {\n",
       "        vertical-align: middle;\n",
       "    }\n",
       "\n",
       "    .dataframe tbody tr th {\n",
       "        vertical-align: top;\n",
       "    }\n",
       "\n",
       "    .dataframe thead th {\n",
       "        text-align: right;\n",
       "    }\n",
       "</style>\n",
       "<table border=\"1\" class=\"dataframe\">\n",
       "  <thead>\n",
       "    <tr style=\"text-align: right;\">\n",
       "      <th></th>\n",
       "      <th>Borough</th>\n",
       "      <th>Neighborhood</th>\n",
       "      <th>ID</th>\n",
       "      <th>Name</th>\n",
       "      <th>Likes</th>\n",
       "      <th>Rating</th>\n",
       "      <th>Tips</th>\n",
       "    </tr>\n",
       "  </thead>\n",
       "  <tbody>\n",
       "    <tr>\n",
       "      <th>0</th>\n",
       "      <td>Brooklyn</td>\n",
       "      <td>Bay Ridge</td>\n",
       "      <td>579d3e7c498effa33c0450af</td>\n",
       "      <td>Istanbul Bay</td>\n",
       "      <td>23</td>\n",
       "      <td>7.9</td>\n",
       "      <td>4</td>\n",
       "    </tr>\n",
       "    <tr>\n",
       "      <th>1</th>\n",
       "      <td>Brooklyn</td>\n",
       "      <td>Bay Ridge</td>\n",
       "      <td>4d420ba9f0dba1cd6c752f49</td>\n",
       "      <td>Hazar Turkish Kebab</td>\n",
       "      <td>44</td>\n",
       "      <td>8.1</td>\n",
       "      <td>25</td>\n",
       "    </tr>\n",
       "    <tr>\n",
       "      <th>2</th>\n",
       "      <td>Brooklyn</td>\n",
       "      <td>Gravesend</td>\n",
       "      <td>51a2a2a3498e0d5d337f137b</td>\n",
       "      <td>Wood Spoon</td>\n",
       "      <td>5</td>\n",
       "      <td>7.4</td>\n",
       "      <td>3</td>\n",
       "    </tr>\n",
       "    <tr>\n",
       "      <th>3</th>\n",
       "      <td>Brooklyn</td>\n",
       "      <td>Sheepshead Bay</td>\n",
       "      <td>4fcbfc92e4b088c92e7e97ad</td>\n",
       "      <td>Opera Cafe Lounge</td>\n",
       "      <td>257</td>\n",
       "      <td>8.3</td>\n",
       "      <td>53</td>\n",
       "    </tr>\n",
       "    <tr>\n",
       "      <th>4</th>\n",
       "      <td>Brooklyn</td>\n",
       "      <td>Sheepshead Bay</td>\n",
       "      <td>4b1d5405f964a520d70e24e3</td>\n",
       "      <td>Liman Restaurant</td>\n",
       "      <td>96</td>\n",
       "      <td>8.1</td>\n",
       "      <td>37</td>\n",
       "    </tr>\n",
       "  </tbody>\n",
       "</table>\n",
       "</div>"
      ],
      "text/plain": [
       "    Borough    Neighborhood                        ID                 Name  \\\n",
       "0  Brooklyn       Bay Ridge  579d3e7c498effa33c0450af         Istanbul Bay   \n",
       "1  Brooklyn       Bay Ridge  4d420ba9f0dba1cd6c752f49  Hazar Turkish Kebab   \n",
       "2  Brooklyn       Gravesend  51a2a2a3498e0d5d337f137b           Wood Spoon   \n",
       "3  Brooklyn  Sheepshead Bay  4fcbfc92e4b088c92e7e97ad    Opera Cafe Lounge   \n",
       "4  Brooklyn  Sheepshead Bay  4b1d5405f964a520d70e24e3     Liman Restaurant   \n",
       "\n",
       "   Likes  Rating  Tips  \n",
       "0     23     7.9     4  \n",
       "1     44     8.1    25  \n",
       "2      5     7.4     3  \n",
       "3    257     8.3    53  \n",
       "4     96     8.1    37  "
      ]
     },
     "execution_count": 29,
     "metadata": {},
     "output_type": "execute_result"
    }
   ],
   "source": [
    "turkish_rest_stats_ny_csv.head()"
   ]
  },
  {
   "cell_type": "code",
   "execution_count": 30,
   "metadata": {},
   "outputs": [
    {
     "name": "stdout",
     "output_type": "stream",
     "text": [
      "<class 'pandas.core.frame.DataFrame'>\n",
      "RangeIndex: 28 entries, 0 to 27\n",
      "Data columns (total 7 columns):\n",
      " #   Column        Non-Null Count  Dtype  \n",
      "---  ------        --------------  -----  \n",
      " 0   Borough       28 non-null     object \n",
      " 1   Neighborhood  28 non-null     object \n",
      " 2   ID            28 non-null     object \n",
      " 3   Name          28 non-null     object \n",
      " 4   Likes         28 non-null     object \n",
      " 5   Rating        28 non-null     float64\n",
      " 6   Tips          28 non-null     object \n",
      "dtypes: float64(1), object(6)\n",
      "memory usage: 1.7+ KB\n"
     ]
    }
   ],
   "source": [
    "turkish_rest_stats_ny.info()"
   ]
  },
  {
   "cell_type": "markdown",
   "metadata": {},
   "source": [
    "### Correcting the Data Types"
   ]
  },
  {
   "cell_type": "code",
   "execution_count": 31,
   "metadata": {},
   "outputs": [],
   "source": [
    "turkish_rest_stats_ny['Likes']=turkish_rest_stats_ny['Likes'].astype('float64')\n",
    "turkish_rest_stats_ny['Tips']=turkish_rest_stats_ny['Tips'].astype('float64')"
   ]
  },
  {
   "cell_type": "code",
   "execution_count": 32,
   "metadata": {},
   "outputs": [
    {
     "name": "stdout",
     "output_type": "stream",
     "text": [
      "<class 'pandas.core.frame.DataFrame'>\n",
      "RangeIndex: 28 entries, 0 to 27\n",
      "Data columns (total 7 columns):\n",
      " #   Column        Non-Null Count  Dtype  \n",
      "---  ------        --------------  -----  \n",
      " 0   Borough       28 non-null     object \n",
      " 1   Neighborhood  28 non-null     object \n",
      " 2   ID            28 non-null     object \n",
      " 3   Name          28 non-null     object \n",
      " 4   Likes         28 non-null     float64\n",
      " 5   Rating        28 non-null     float64\n",
      " 6   Tips          28 non-null     float64\n",
      "dtypes: float64(3), object(4)\n",
      "memory usage: 1.7+ KB\n"
     ]
    }
   ],
   "source": [
    "turkish_rest_stats_ny.info()"
   ]
  },
  {
   "cell_type": "markdown",
   "metadata": {},
   "source": [
    "### Identifying the Best Restaurants"
   ]
  },
  {
   "cell_type": "code",
   "execution_count": 33,
   "metadata": {},
   "outputs": [
    {
     "data": {
      "text/plain": [
       "Borough                        Manhattan\n",
       "Neighborhood                  Turtle Bay\n",
       "ID              50fc9a88e4b04cfffaebe2cf\n",
       "Name                             Sip Sak\n",
       "Likes                                284\n",
       "Rating                               8.9\n",
       "Tips                                 101\n",
       "Name: 24, dtype: object"
      ]
     },
     "execution_count": 33,
     "metadata": {},
     "output_type": "execute_result"
    }
   ],
   "source": [
    "# Resturant with maximum Likes\n",
    "turkish_rest_stats_ny.iloc[turkish_rest_stats_ny['Likes'].idxmax()]"
   ]
  },
  {
   "cell_type": "code",
   "execution_count": 34,
   "metadata": {},
   "outputs": [
    {
     "data": {
      "text/plain": [
       "Borough                         Brooklyn\n",
       "Neighborhood           Manhattan Terrace\n",
       "ID              4a060d32f964a520b1721fe3\n",
       "Name             Taci's Beyti Restaurant\n",
       "Likes                                249\n",
       "Rating                               8.9\n",
       "Tips                                  67\n",
       "Name: 7, dtype: object"
      ]
     },
     "execution_count": 34,
     "metadata": {},
     "output_type": "execute_result"
    }
   ],
   "source": [
    "# Resturant with maximum Rating\n",
    "turkish_rest_stats_ny.iloc[turkish_rest_stats_ny['Rating'].idxmax()]"
   ]
  },
  {
   "cell_type": "code",
   "execution_count": 35,
   "metadata": {},
   "outputs": [
    {
     "data": {
      "text/plain": [
       "Borough                        Manhattan\n",
       "Neighborhood                  Turtle Bay\n",
       "ID              50fc9a88e4b04cfffaebe2cf\n",
       "Name                             Sip Sak\n",
       "Likes                                284\n",
       "Rating                               8.9\n",
       "Tips                                 101\n",
       "Name: 24, dtype: object"
      ]
     },
     "execution_count": 35,
     "metadata": {},
     "output_type": "execute_result"
    }
   ],
   "source": [
    "# Resturant with maximum Tips\n",
    "turkish_rest_stats_ny.iloc[turkish_rest_stats_ny['Tips'].idxmax()]"
   ]
  },
  {
   "cell_type": "markdown",
   "metadata": {},
   "source": [
    "### Finding Best Neighborhoods in NYC for Turkish Food"
   ]
  },
  {
   "cell_type": "code",
   "execution_count": 36,
   "metadata": {},
   "outputs": [],
   "source": [
    "ny_neighborhood_stats=turkish_rest_stats_ny.groupby('Neighborhood',as_index=False).mean()[['Neighborhood','Rating']]\n",
    "ny_neighborhood_stats.columns=['Neighborhood','Average Rating']"
   ]
  },
  {
   "cell_type": "code",
   "execution_count": 43,
   "metadata": {},
   "outputs": [
    {
     "data": {
      "text/html": [
       "<div>\n",
       "<style scoped>\n",
       "    .dataframe tbody tr th:only-of-type {\n",
       "        vertical-align: middle;\n",
       "    }\n",
       "\n",
       "    .dataframe tbody tr th {\n",
       "        vertical-align: top;\n",
       "    }\n",
       "\n",
       "    .dataframe thead th {\n",
       "        text-align: right;\n",
       "    }\n",
       "</style>\n",
       "<table border=\"1\" class=\"dataframe\">\n",
       "  <thead>\n",
       "    <tr style=\"text-align: right;\">\n",
       "      <th></th>\n",
       "      <th>Neighborhood</th>\n",
       "      <th>Average Rating</th>\n",
       "    </tr>\n",
       "  </thead>\n",
       "  <tbody>\n",
       "    <tr>\n",
       "      <th>9</th>\n",
       "      <td>Ocean Parkway</td>\n",
       "      <td>8.9</td>\n",
       "    </tr>\n",
       "    <tr>\n",
       "      <th>8</th>\n",
       "      <td>Manhattan Terrace</td>\n",
       "      <td>8.9</td>\n",
       "    </tr>\n",
       "    <tr>\n",
       "      <th>16</th>\n",
       "      <td>Turtle Bay</td>\n",
       "      <td>8.9</td>\n",
       "    </tr>\n",
       "    <tr>\n",
       "      <th>15</th>\n",
       "      <td>Tudor City</td>\n",
       "      <td>8.9</td>\n",
       "    </tr>\n",
       "    <tr>\n",
       "      <th>12</th>\n",
       "      <td>Steinway</td>\n",
       "      <td>8.6</td>\n",
       "    </tr>\n",
       "    <tr>\n",
       "      <th>10</th>\n",
       "      <td>Ravenswood</td>\n",
       "      <td>8.6</td>\n",
       "    </tr>\n",
       "    <tr>\n",
       "      <th>0</th>\n",
       "      <td>Astoria</td>\n",
       "      <td>8.6</td>\n",
       "    </tr>\n",
       "    <tr>\n",
       "      <th>13</th>\n",
       "      <td>Sunnyside</td>\n",
       "      <td>8.0</td>\n",
       "    </tr>\n",
       "    <tr>\n",
       "      <th>14</th>\n",
       "      <td>Sunnyside Gardens</td>\n",
       "      <td>8.0</td>\n",
       "    </tr>\n",
       "    <tr>\n",
       "      <th>2</th>\n",
       "      <td>Bay Ridge</td>\n",
       "      <td>8.0</td>\n",
       "    </tr>\n",
       "  </tbody>\n",
       "</table>\n",
       "</div>"
      ],
      "text/plain": [
       "         Neighborhood  Average Rating\n",
       "9       Ocean Parkway             8.9\n",
       "8   Manhattan Terrace             8.9\n",
       "16         Turtle Bay             8.9\n",
       "15         Tudor City             8.9\n",
       "12           Steinway             8.6\n",
       "10         Ravenswood             8.6\n",
       "0             Astoria             8.6\n",
       "13          Sunnyside             8.0\n",
       "14  Sunnyside Gardens             8.0\n",
       "2           Bay Ridge             8.0"
      ]
     },
     "execution_count": 43,
     "metadata": {},
     "output_type": "execute_result"
    }
   ],
   "source": [
    "ny_neighborhood_stats.sort_values(['Average Rating'],ascending=False).head(10)"
   ]
  },
  {
   "cell_type": "markdown",
   "metadata": {},
   "source": [
    "### Finding Best Boroughs in NYC for Turkish Food"
   ]
  },
  {
   "cell_type": "code",
   "execution_count": 39,
   "metadata": {},
   "outputs": [],
   "source": [
    "ny_borough_stats=turkish_rest_stats_ny.groupby('Borough',as_index=False).mean()[['Borough','Rating']]\n",
    "ny_borough_stats.columns=['Borough','Average Rating']"
   ]
  },
  {
   "cell_type": "code",
   "execution_count": 40,
   "metadata": {},
   "outputs": [
    {
     "data": {
      "text/html": [
       "<div>\n",
       "<style scoped>\n",
       "    .dataframe tbody tr th:only-of-type {\n",
       "        vertical-align: middle;\n",
       "    }\n",
       "\n",
       "    .dataframe tbody tr th {\n",
       "        vertical-align: top;\n",
       "    }\n",
       "\n",
       "    .dataframe thead th {\n",
       "        text-align: right;\n",
       "    }\n",
       "</style>\n",
       "<table border=\"1\" class=\"dataframe\">\n",
       "  <thead>\n",
       "    <tr style=\"text-align: right;\">\n",
       "      <th></th>\n",
       "      <th>Borough</th>\n",
       "      <th>Average Rating</th>\n",
       "    </tr>\n",
       "  </thead>\n",
       "  <tbody>\n",
       "    <tr>\n",
       "      <th>1</th>\n",
       "      <td>Manhattan</td>\n",
       "      <td>8.425000</td>\n",
       "    </tr>\n",
       "    <tr>\n",
       "      <th>2</th>\n",
       "      <td>Queens</td>\n",
       "      <td>8.166667</td>\n",
       "    </tr>\n",
       "    <tr>\n",
       "      <th>0</th>\n",
       "      <td>Brooklyn</td>\n",
       "      <td>7.986667</td>\n",
       "    </tr>\n",
       "  </tbody>\n",
       "</table>\n",
       "</div>"
      ],
      "text/plain": [
       "     Borough  Average Rating\n",
       "1  Manhattan        8.425000\n",
       "2     Queens        8.166667\n",
       "0   Brooklyn        7.986667"
      ]
     },
     "execution_count": 40,
     "metadata": {},
     "output_type": "execute_result"
    }
   ],
   "source": [
    "ny_borough_stats.sort_values(['Average Rating'],ascending=False).head()"
   ]
  },
  {
   "cell_type": "code",
   "execution_count": 41,
   "metadata": {},
   "outputs": [
    {
     "data": {
      "image/png": "[encoded data removed]",
      "text/plain": [
       "<Figure size 900x500 with 1 Axes>"
      ]
     },
     "metadata": {
      "needs_background": "light"
     },
     "output_type": "display_data"
    }
   ],
   "source": [
    "plt.figure(figsize=(9,5), dpi = 100)\n",
    "# title\n",
    "plt.title('Average rating of Turkish Resturants for each Borough')\n",
    "#On x-axis\n",
    "plt.xlabel('Borough', fontsize = 15)\n",
    "#On y-axis\n",
    "plt.ylabel('Average Rating', fontsize=15)\n",
    "#giving a bar plot\n",
    "turkish_rest_stats_ny.groupby('Borough').mean()['Rating'].plot(kind='bar')\n",
    "#legend\n",
    "plt.legend()\n",
    "#displays the plot\n",
    "plt.show()"
   ]
  },
  {
   "cell_type": "markdown",
   "metadata": {},
   "source": [
    "### Let's add the geocode to the neighborhoods"
   ]
  },
  {
   "cell_type": "code",
   "execution_count": 44,
   "metadata": {},
   "outputs": [],
   "source": [
    "ny_neighborhood_stats=pd.merge(ny_neighborhood_stats,new_york_data, on='Neighborhood')"
   ]
  },
  {
   "cell_type": "code",
   "execution_count": 45,
   "metadata": {},
   "outputs": [],
   "source": [
    "ny_neighborhood_stats=ny_neighborhood_stats[['Borough','Neighborhood','Latitude','Longitude','Average Rating']]"
   ]
  },
  {
   "cell_type": "code",
   "execution_count": 59,
   "metadata": {},
   "outputs": [
    {
     "data": {
      "text/html": [
       "<div>\n",
       "<style scoped>\n",
       "    .dataframe tbody tr th:only-of-type {\n",
       "        vertical-align: middle;\n",
       "    }\n",
       "\n",
       "    .dataframe tbody tr th {\n",
       "        vertical-align: top;\n",
       "    }\n",
       "\n",
       "    .dataframe thead th {\n",
       "        text-align: right;\n",
       "    }\n",
       "</style>\n",
       "<table border=\"1\" class=\"dataframe\">\n",
       "  <thead>\n",
       "    <tr style=\"text-align: right;\">\n",
       "      <th></th>\n",
       "      <th>Borough</th>\n",
       "      <th>Neighborhood</th>\n",
       "      <th>Latitude</th>\n",
       "      <th>Longitude</th>\n",
       "      <th>Average Rating</th>\n",
       "      <th>Label</th>\n",
       "    </tr>\n",
       "  </thead>\n",
       "  <tbody>\n",
       "    <tr>\n",
       "      <th>9</th>\n",
       "      <td>Brooklyn</td>\n",
       "      <td>Ocean Parkway</td>\n",
       "      <td>40.613060</td>\n",
       "      <td>-73.968367</td>\n",
       "      <td>8.900</td>\n",
       "      <td>Ocean Parkway, Brooklyn(8.9)</td>\n",
       "    </tr>\n",
       "    <tr>\n",
       "      <th>8</th>\n",
       "      <td>Brooklyn</td>\n",
       "      <td>Manhattan Terrace</td>\n",
       "      <td>40.614433</td>\n",
       "      <td>-73.957438</td>\n",
       "      <td>8.900</td>\n",
       "      <td>Manhattan Terrace, Brooklyn(8.9)</td>\n",
       "    </tr>\n",
       "    <tr>\n",
       "      <th>17</th>\n",
       "      <td>Manhattan</td>\n",
       "      <td>Turtle Bay</td>\n",
       "      <td>40.752042</td>\n",
       "      <td>-73.967708</td>\n",
       "      <td>8.900</td>\n",
       "      <td>Turtle Bay, Manhattan(8.9)</td>\n",
       "    </tr>\n",
       "    <tr>\n",
       "      <th>16</th>\n",
       "      <td>Manhattan</td>\n",
       "      <td>Tudor City</td>\n",
       "      <td>40.746917</td>\n",
       "      <td>-73.971219</td>\n",
       "      <td>8.900</td>\n",
       "      <td>Tudor City, Manhattan(8.9)</td>\n",
       "    </tr>\n",
       "    <tr>\n",
       "      <th>12</th>\n",
       "      <td>Queens</td>\n",
       "      <td>Steinway</td>\n",
       "      <td>40.775923</td>\n",
       "      <td>-73.902290</td>\n",
       "      <td>8.600</td>\n",
       "      <td>Steinway, Queens(8.6)</td>\n",
       "    </tr>\n",
       "    <tr>\n",
       "      <th>10</th>\n",
       "      <td>Queens</td>\n",
       "      <td>Ravenswood</td>\n",
       "      <td>40.761705</td>\n",
       "      <td>-73.931575</td>\n",
       "      <td>8.600</td>\n",
       "      <td>Ravenswood, Queens(8.6)</td>\n",
       "    </tr>\n",
       "    <tr>\n",
       "      <th>0</th>\n",
       "      <td>Queens</td>\n",
       "      <td>Astoria</td>\n",
       "      <td>40.768509</td>\n",
       "      <td>-73.915654</td>\n",
       "      <td>8.600</td>\n",
       "      <td>Astoria, Queens(8.6)</td>\n",
       "    </tr>\n",
       "    <tr>\n",
       "      <th>13</th>\n",
       "      <td>Queens</td>\n",
       "      <td>Sunnyside</td>\n",
       "      <td>40.740176</td>\n",
       "      <td>-73.926916</td>\n",
       "      <td>8.000</td>\n",
       "      <td>Sunnyside, Queens(8.0)</td>\n",
       "    </tr>\n",
       "    <tr>\n",
       "      <th>14</th>\n",
       "      <td>Staten Island</td>\n",
       "      <td>Sunnyside</td>\n",
       "      <td>40.612760</td>\n",
       "      <td>-74.097126</td>\n",
       "      <td>8.000</td>\n",
       "      <td>Sunnyside, Staten Island(8.0)</td>\n",
       "    </tr>\n",
       "    <tr>\n",
       "      <th>15</th>\n",
       "      <td>Queens</td>\n",
       "      <td>Sunnyside Gardens</td>\n",
       "      <td>40.745652</td>\n",
       "      <td>-73.918193</td>\n",
       "      <td>8.000</td>\n",
       "      <td>Sunnyside Gardens, Queens(8.0)</td>\n",
       "    </tr>\n",
       "    <tr>\n",
       "      <th>2</th>\n",
       "      <td>Brooklyn</td>\n",
       "      <td>Bay Ridge</td>\n",
       "      <td>40.625801</td>\n",
       "      <td>-74.030621</td>\n",
       "      <td>8.000</td>\n",
       "      <td>Bay Ridge, Brooklyn(8.0)</td>\n",
       "    </tr>\n",
       "    <tr>\n",
       "      <th>18</th>\n",
       "      <td>Manhattan</td>\n",
       "      <td>Upper West Side</td>\n",
       "      <td>40.787658</td>\n",
       "      <td>-73.977059</td>\n",
       "      <td>8.000</td>\n",
       "      <td>Upper West Side, Manhattan(8.0)</td>\n",
       "    </tr>\n",
       "    <tr>\n",
       "      <th>6</th>\n",
       "      <td>Manhattan</td>\n",
       "      <td>Little Italy</td>\n",
       "      <td>40.719324</td>\n",
       "      <td>-73.997305</td>\n",
       "      <td>7.900</td>\n",
       "      <td>Little Italy, Manhattan(7.9)</td>\n",
       "    </tr>\n",
       "    <tr>\n",
       "      <th>3</th>\n",
       "      <td>Brooklyn</td>\n",
       "      <td>Dyker Heights</td>\n",
       "      <td>40.619219</td>\n",
       "      <td>-74.019314</td>\n",
       "      <td>7.900</td>\n",
       "      <td>Dyker Heights, Brooklyn(7.9)</td>\n",
       "    </tr>\n",
       "    <tr>\n",
       "      <th>7</th>\n",
       "      <td>Brooklyn</td>\n",
       "      <td>Manhattan Beach</td>\n",
       "      <td>40.577914</td>\n",
       "      <td>-73.943537</td>\n",
       "      <td>7.875</td>\n",
       "      <td>Manhattan Beach, Brooklyn(7.874999999999999)</td>\n",
       "    </tr>\n",
       "    <tr>\n",
       "      <th>11</th>\n",
       "      <td>Brooklyn</td>\n",
       "      <td>Sheepshead Bay</td>\n",
       "      <td>40.586890</td>\n",
       "      <td>-73.943186</td>\n",
       "      <td>7.875</td>\n",
       "      <td>Sheepshead Bay, Brooklyn(7.874999999999999)</td>\n",
       "    </tr>\n",
       "    <tr>\n",
       "      <th>4</th>\n",
       "      <td>Queens</td>\n",
       "      <td>Forest Hills Gardens</td>\n",
       "      <td>40.714611</td>\n",
       "      <td>-73.841022</td>\n",
       "      <td>7.850</td>\n",
       "      <td>Forest Hills Gardens, Queens(7.8500000000000005)</td>\n",
       "    </tr>\n",
       "    <tr>\n",
       "      <th>1</th>\n",
       "      <td>Brooklyn</td>\n",
       "      <td>Bath Beach</td>\n",
       "      <td>40.599519</td>\n",
       "      <td>-73.998752</td>\n",
       "      <td>7.700</td>\n",
       "      <td>Bath Beach, Brooklyn(7.7)</td>\n",
       "    </tr>\n",
       "    <tr>\n",
       "      <th>5</th>\n",
       "      <td>Brooklyn</td>\n",
       "      <td>Gravesend</td>\n",
       "      <td>40.595260</td>\n",
       "      <td>-73.973471</td>\n",
       "      <td>7.400</td>\n",
       "      <td>Gravesend, Brooklyn(7.4)</td>\n",
       "    </tr>\n",
       "  </tbody>\n",
       "</table>\n",
       "</div>"
      ],
      "text/plain": [
       "          Borough          Neighborhood   Latitude  Longitude  Average Rating  \\\n",
       "9        Brooklyn         Ocean Parkway  40.613060 -73.968367           8.900   \n",
       "8        Brooklyn     Manhattan Terrace  40.614433 -73.957438           8.900   \n",
       "17      Manhattan            Turtle Bay  40.752042 -73.967708           8.900   \n",
       "16      Manhattan            Tudor City  40.746917 -73.971219           8.900   \n",
       "12         Queens              Steinway  40.775923 -73.902290           8.600   \n",
       "10         Queens            Ravenswood  40.761705 -73.931575           8.600   \n",
       "0          Queens               Astoria  40.768509 -73.915654           8.600   \n",
       "13         Queens             Sunnyside  40.740176 -73.926916           8.000   \n",
       "14  Staten Island             Sunnyside  40.612760 -74.097126           8.000   \n",
       "15         Queens     Sunnyside Gardens  40.745652 -73.918193           8.000   \n",
       "2        Brooklyn             Bay Ridge  40.625801 -74.030621           8.000   \n",
       "18      Manhattan       Upper West Side  40.787658 -73.977059           8.000   \n",
       "6       Manhattan          Little Italy  40.719324 -73.997305           7.900   \n",
       "3        Brooklyn         Dyker Heights  40.619219 -74.019314           7.900   \n",
       "7        Brooklyn       Manhattan Beach  40.577914 -73.943537           7.875   \n",
       "11       Brooklyn        Sheepshead Bay  40.586890 -73.943186           7.875   \n",
       "4          Queens  Forest Hills Gardens  40.714611 -73.841022           7.850   \n",
       "1        Brooklyn            Bath Beach  40.599519 -73.998752           7.700   \n",
       "5        Brooklyn             Gravesend  40.595260 -73.973471           7.400   \n",
       "\n",
       "                                               Label  \n",
       "9                       Ocean Parkway, Brooklyn(8.9)  \n",
       "8                   Manhattan Terrace, Brooklyn(8.9)  \n",
       "17                        Turtle Bay, Manhattan(8.9)  \n",
       "16                        Tudor City, Manhattan(8.9)  \n",
       "12                             Steinway, Queens(8.6)  \n",
       "10                           Ravenswood, Queens(8.6)  \n",
       "0                               Astoria, Queens(8.6)  \n",
       "13                            Sunnyside, Queens(8.0)  \n",
       "14                     Sunnyside, Staten Island(8.0)  \n",
       "15                    Sunnyside Gardens, Queens(8.0)  \n",
       "2                           Bay Ridge, Brooklyn(8.0)  \n",
       "18                   Upper West Side, Manhattan(8.0)  \n",
       "6                       Little Italy, Manhattan(7.9)  \n",
       "3                       Dyker Heights, Brooklyn(7.9)  \n",
       "7       Manhattan Beach, Brooklyn(7.874999999999999)  \n",
       "11       Sheepshead Bay, Brooklyn(7.874999999999999)  \n",
       "4   Forest Hills Gardens, Queens(7.8500000000000005)  \n",
       "1                          Bath Beach, Brooklyn(7.7)  \n",
       "5                           Gravesend, Brooklyn(7.4)  "
      ]
     },
     "execution_count": 59,
     "metadata": {},
     "output_type": "execute_result"
    }
   ],
   "source": [
    "ny_neighborhood_stats.sort_values(['Average Rating'],ascending=False)"
   ]
  },
  {
   "cell_type": "markdown",
   "metadata": {},
   "source": [
    "### Creating the Map"
   ]
  },
  {
   "cell_type": "code",
   "execution_count": 51,
   "metadata": {},
   "outputs": [],
   "source": [
    "ny_map = folium.Map(location=geo_location('New York'), zoom_start=11)"
   ]
  },
  {
   "cell_type": "code",
   "execution_count": 56,
   "metadata": {},
   "outputs": [],
   "source": [
    "# instantiate a feature group for the incidents in the dataframe\n",
    "incidents = folium.map.FeatureGroup()\n",
    "\n",
    "# loop through the neighborhood and add each to the feature group\n",
    "for lat, lng, rating in ny_neighborhood_stats[['Latitude','Longitude','Average Rating']].values:\n",
    "    incidents.add_child(\n",
    "        folium.CircleMarker(\n",
    "            [lat, lng],\n",
    "            radius=10, # define how big you want the circle markers to be\n",
    "            color=rating,\n",
    "            fill=True,\n",
    "            fill_color=rating,\n",
    "            fill_opacity=0.6\n",
    "        )\n",
    "    )"
   ]
  },
  {
   "cell_type": "code",
   "execution_count": 57,
   "metadata": {},
   "outputs": [],
   "source": [
    "ny_neighborhood_stats['Label']=ny_neighborhood_stats['Neighborhood']+', '+ny_neighborhood_stats['Borough']+'('+ny_neighborhood_stats['Average Rating'].map(str)+')'\n"
   ]
  },
  {
   "cell_type": "code",
   "execution_count": 58,
   "metadata": {},
   "outputs": [
    {
     "data": {
      "text/html": [
       "<div style=\"width:100%;\"><div style=\"position:relative;width:100%;height:0;padding-bottom:60%;\"><span style=\"color:#565656\">Make this Notebook Trusted to load map: File -> Trust Notebook</span><iframe src=\"about:blank\" style=\"position:absolute;width:100%;height:100%;left:0;top:0;border:none !important;\" data-html=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 onload=\"this.contentDocument.open();this.contentDocument.write(atob(this.getAttribute('data-html')));this.contentDocument.close();\" allowfullscreen webkitallowfullscreen mozallowfullscreen></iframe></div></div>"
      ],
      "text/plain": [
       "<folium.folium.Map at 0x7fca2a02a3c8>"
      ]
     },
     "execution_count": 58,
     "metadata": {},
     "output_type": "execute_result"
    }
   ],
   "source": [
    "# add pop-up text to each marker on the map\n",
    "for lat, lng, label in ny_neighborhood_stats[['Latitude','Longitude','Label']].values:\n",
    "    folium.Marker([lat, lng], popup=label).add_to(ny_map)        \n",
    "# add incidents to map\n",
    "ny_map.add_child(incidents)"
   ]
  },
  {
   "cell_type": "markdown",
   "metadata": {},
   "source": [
    "## CONCLUSION"
   ]
  },
  {
   "cell_type": "markdown",
   "metadata": {},
   "source": [
    "### Lets answer the questions we asked"
   ]
  },
  {
   "cell_type": "markdown",
   "metadata": {},
   "source": [
    "1) Best places in NYC for Turkish Food are: the Boroughs Brooklyn & Manhattan and the neighborhoods Ocean Parkway, Manhattan Terrace, and Turtle Bay."
   ]
  },
  {
   "cell_type": "markdown",
   "metadata": {},
   "source": [
    "2a) If we consider the diversity and the quality level as an indicator and willing to take the risk of competition, we should choose Manhattan Terrace and Turtle Bay."
   ]
  },
  {
   "cell_type": "markdown",
   "metadata": {},
   "source": [
    "2b) If we would like to avoid the competition as an unknown player in the market and lower the risks, then we should choose Manhattan's other neighborhoods. These areas will still have Manhattan's advantages such as the population, diversity, socio-economical status of the people, and so on, and we can exploit the opportunities created by the lack of competition."
   ]
  },
  {
   "cell_type": "code",
   "execution_count": null,
   "metadata": {},
   "outputs": [],
   "source": []
  }
 ],
 "metadata": {
  "kernelspec": {
   "display_name": "Python",
   "language": "python",
   "name": "conda-env-python-py"
  },
  "language_info": {
   "codemirror_mode": {
    "name": "ipython",
    "version": 3
   },
   "file_extension": ".py",
   "mimetype": "text/x-python",
   "name": "python",
   "nbconvert_exporter": "python",
   "pygments_lexer": "ipython3",
   "version": "3.6.10"
  }
 },
 "nbformat": 4,
 "nbformat_minor": 4
}
